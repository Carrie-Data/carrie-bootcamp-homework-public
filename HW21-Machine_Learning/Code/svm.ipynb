{
 "cells": [
  {
   "cell_type": "code",
   "execution_count": 56,
   "metadata": {},
   "outputs": [],
   "source": [
    "import pandas as pd"
   ]
  },
  {
   "cell_type": "markdown",
   "metadata": {},
   "source": [
    "# Read the CSV and Perform Basic Data Cleaning"
   ]
  },
  {
   "cell_type": "code",
   "execution_count": 57,
   "metadata": {},
   "outputs": [
    {
     "data": {
      "text/html": [
       "<div>\n",
       "<style scoped>\n",
       "    .dataframe tbody tr th:only-of-type {\n",
       "        vertical-align: middle;\n",
       "    }\n",
       "\n",
       "    .dataframe tbody tr th {\n",
       "        vertical-align: top;\n",
       "    }\n",
       "\n",
       "    .dataframe thead th {\n",
       "        text-align: right;\n",
       "    }\n",
       "</style>\n",
       "<table border=\"1\" class=\"dataframe\">\n",
       "  <thead>\n",
       "    <tr style=\"text-align: right;\">\n",
       "      <th></th>\n",
       "      <th>koi_disposition</th>\n",
       "      <th>koi_fpflag_nt</th>\n",
       "      <th>koi_fpflag_ss</th>\n",
       "      <th>koi_fpflag_co</th>\n",
       "      <th>koi_fpflag_ec</th>\n",
       "      <th>koi_period</th>\n",
       "      <th>koi_period_err1</th>\n",
       "      <th>koi_period_err2</th>\n",
       "      <th>koi_time0bk</th>\n",
       "      <th>koi_time0bk_err1</th>\n",
       "      <th>...</th>\n",
       "      <th>koi_steff_err2</th>\n",
       "      <th>koi_slogg</th>\n",
       "      <th>koi_slogg_err1</th>\n",
       "      <th>koi_slogg_err2</th>\n",
       "      <th>koi_srad</th>\n",
       "      <th>koi_srad_err1</th>\n",
       "      <th>koi_srad_err2</th>\n",
       "      <th>ra</th>\n",
       "      <th>dec</th>\n",
       "      <th>koi_kepmag</th>\n",
       "    </tr>\n",
       "  </thead>\n",
       "  <tbody>\n",
       "    <tr>\n",
       "      <th>0</th>\n",
       "      <td>CONFIRMED</td>\n",
       "      <td>0</td>\n",
       "      <td>0</td>\n",
       "      <td>0</td>\n",
       "      <td>0</td>\n",
       "      <td>9.488036</td>\n",
       "      <td>2.775000e-05</td>\n",
       "      <td>-2.775000e-05</td>\n",
       "      <td>170.538750</td>\n",
       "      <td>0.002160</td>\n",
       "      <td>...</td>\n",
       "      <td>-81.0</td>\n",
       "      <td>4.467</td>\n",
       "      <td>0.064</td>\n",
       "      <td>-0.096</td>\n",
       "      <td>0.927</td>\n",
       "      <td>0.105</td>\n",
       "      <td>-0.061</td>\n",
       "      <td>291.93423</td>\n",
       "      <td>48.141651</td>\n",
       "      <td>15.347</td>\n",
       "    </tr>\n",
       "    <tr>\n",
       "      <th>1</th>\n",
       "      <td>CONFIRMED</td>\n",
       "      <td>0</td>\n",
       "      <td>0</td>\n",
       "      <td>0</td>\n",
       "      <td>0</td>\n",
       "      <td>54.418383</td>\n",
       "      <td>2.479000e-04</td>\n",
       "      <td>-2.479000e-04</td>\n",
       "      <td>162.513840</td>\n",
       "      <td>0.003520</td>\n",
       "      <td>...</td>\n",
       "      <td>-81.0</td>\n",
       "      <td>4.467</td>\n",
       "      <td>0.064</td>\n",
       "      <td>-0.096</td>\n",
       "      <td>0.927</td>\n",
       "      <td>0.105</td>\n",
       "      <td>-0.061</td>\n",
       "      <td>291.93423</td>\n",
       "      <td>48.141651</td>\n",
       "      <td>15.347</td>\n",
       "    </tr>\n",
       "    <tr>\n",
       "      <th>2</th>\n",
       "      <td>FALSE POSITIVE</td>\n",
       "      <td>0</td>\n",
       "      <td>1</td>\n",
       "      <td>0</td>\n",
       "      <td>0</td>\n",
       "      <td>19.899140</td>\n",
       "      <td>1.494000e-05</td>\n",
       "      <td>-1.494000e-05</td>\n",
       "      <td>175.850252</td>\n",
       "      <td>0.000581</td>\n",
       "      <td>...</td>\n",
       "      <td>-176.0</td>\n",
       "      <td>4.544</td>\n",
       "      <td>0.044</td>\n",
       "      <td>-0.176</td>\n",
       "      <td>0.868</td>\n",
       "      <td>0.233</td>\n",
       "      <td>-0.078</td>\n",
       "      <td>297.00482</td>\n",
       "      <td>48.134129</td>\n",
       "      <td>15.436</td>\n",
       "    </tr>\n",
       "    <tr>\n",
       "      <th>3</th>\n",
       "      <td>FALSE POSITIVE</td>\n",
       "      <td>0</td>\n",
       "      <td>1</td>\n",
       "      <td>0</td>\n",
       "      <td>0</td>\n",
       "      <td>1.736952</td>\n",
       "      <td>2.630000e-07</td>\n",
       "      <td>-2.630000e-07</td>\n",
       "      <td>170.307565</td>\n",
       "      <td>0.000115</td>\n",
       "      <td>...</td>\n",
       "      <td>-174.0</td>\n",
       "      <td>4.564</td>\n",
       "      <td>0.053</td>\n",
       "      <td>-0.168</td>\n",
       "      <td>0.791</td>\n",
       "      <td>0.201</td>\n",
       "      <td>-0.067</td>\n",
       "      <td>285.53461</td>\n",
       "      <td>48.285210</td>\n",
       "      <td>15.597</td>\n",
       "    </tr>\n",
       "    <tr>\n",
       "      <th>4</th>\n",
       "      <td>CONFIRMED</td>\n",
       "      <td>0</td>\n",
       "      <td>0</td>\n",
       "      <td>0</td>\n",
       "      <td>0</td>\n",
       "      <td>2.525592</td>\n",
       "      <td>3.761000e-06</td>\n",
       "      <td>-3.761000e-06</td>\n",
       "      <td>171.595550</td>\n",
       "      <td>0.001130</td>\n",
       "      <td>...</td>\n",
       "      <td>-211.0</td>\n",
       "      <td>4.438</td>\n",
       "      <td>0.070</td>\n",
       "      <td>-0.210</td>\n",
       "      <td>1.046</td>\n",
       "      <td>0.334</td>\n",
       "      <td>-0.133</td>\n",
       "      <td>288.75488</td>\n",
       "      <td>48.226200</td>\n",
       "      <td>15.509</td>\n",
       "    </tr>\n",
       "  </tbody>\n",
       "</table>\n",
       "<p>5 rows × 41 columns</p>\n",
       "</div>"
      ],
      "text/plain": [
       "  koi_disposition  koi_fpflag_nt  koi_fpflag_ss  koi_fpflag_co  koi_fpflag_ec  \\\n",
       "0       CONFIRMED              0              0              0              0   \n",
       "1       CONFIRMED              0              0              0              0   \n",
       "2  FALSE POSITIVE              0              1              0              0   \n",
       "3  FALSE POSITIVE              0              1              0              0   \n",
       "4       CONFIRMED              0              0              0              0   \n",
       "\n",
       "   koi_period  koi_period_err1  koi_period_err2  koi_time0bk  \\\n",
       "0    9.488036     2.775000e-05    -2.775000e-05   170.538750   \n",
       "1   54.418383     2.479000e-04    -2.479000e-04   162.513840   \n",
       "2   19.899140     1.494000e-05    -1.494000e-05   175.850252   \n",
       "3    1.736952     2.630000e-07    -2.630000e-07   170.307565   \n",
       "4    2.525592     3.761000e-06    -3.761000e-06   171.595550   \n",
       "\n",
       "   koi_time0bk_err1     ...      koi_steff_err2  koi_slogg  koi_slogg_err1  \\\n",
       "0          0.002160     ...               -81.0      4.467           0.064   \n",
       "1          0.003520     ...               -81.0      4.467           0.064   \n",
       "2          0.000581     ...              -176.0      4.544           0.044   \n",
       "3          0.000115     ...              -174.0      4.564           0.053   \n",
       "4          0.001130     ...              -211.0      4.438           0.070   \n",
       "\n",
       "   koi_slogg_err2  koi_srad  koi_srad_err1  koi_srad_err2         ra  \\\n",
       "0          -0.096     0.927          0.105         -0.061  291.93423   \n",
       "1          -0.096     0.927          0.105         -0.061  291.93423   \n",
       "2          -0.176     0.868          0.233         -0.078  297.00482   \n",
       "3          -0.168     0.791          0.201         -0.067  285.53461   \n",
       "4          -0.210     1.046          0.334         -0.133  288.75488   \n",
       "\n",
       "         dec  koi_kepmag  \n",
       "0  48.141651      15.347  \n",
       "1  48.141651      15.347  \n",
       "2  48.134129      15.436  \n",
       "3  48.285210      15.597  \n",
       "4  48.226200      15.509  \n",
       "\n",
       "[5 rows x 41 columns]"
      ]
     },
     "execution_count": 57,
     "metadata": {},
     "output_type": "execute_result"
    }
   ],
   "source": [
    "df = pd.read_csv(\"cumulative.csv\")\n",
    "df = df.drop(columns=[\"rowid\", \"kepid\", \"kepoi_name\", \"kepler_name\", \"koi_pdisposition\", \"koi_score\", \"koi_tce_delivname\"])\n",
    "# Drop the null columns where all values are null\n",
    "df = df.dropna(axis='columns', how='all')\n",
    "# Drop the null rows\n",
    "df = df.dropna()\n",
    "df.head()"
   ]
  },
  {
   "cell_type": "markdown",
   "metadata": {},
   "source": [
    "# Create a Train Test Split\n",
    "\n",
    "Use `koi_disposition` for the y values"
   ]
  },
  {
   "cell_type": "code",
   "execution_count": 58,
   "metadata": {},
   "outputs": [
    {
     "data": {
      "text/html": [
       "<div>\n",
       "<style scoped>\n",
       "    .dataframe tbody tr th:only-of-type {\n",
       "        vertical-align: middle;\n",
       "    }\n",
       "\n",
       "    .dataframe tbody tr th {\n",
       "        vertical-align: top;\n",
       "    }\n",
       "\n",
       "    .dataframe thead th {\n",
       "        text-align: right;\n",
       "    }\n",
       "</style>\n",
       "<table border=\"1\" class=\"dataframe\">\n",
       "  <thead>\n",
       "    <tr style=\"text-align: right;\">\n",
       "      <th></th>\n",
       "      <th>koi_fpflag_nt</th>\n",
       "      <th>koi_fpflag_ss</th>\n",
       "      <th>koi_fpflag_co</th>\n",
       "      <th>koi_fpflag_ec</th>\n",
       "      <th>koi_period</th>\n",
       "      <th>koi_period_err1</th>\n",
       "      <th>koi_period_err2</th>\n",
       "      <th>koi_time0bk</th>\n",
       "      <th>koi_time0bk_err1</th>\n",
       "      <th>koi_time0bk_err2</th>\n",
       "      <th>...</th>\n",
       "      <th>koi_steff_err2</th>\n",
       "      <th>koi_slogg</th>\n",
       "      <th>koi_slogg_err1</th>\n",
       "      <th>koi_slogg_err2</th>\n",
       "      <th>koi_srad</th>\n",
       "      <th>koi_srad_err1</th>\n",
       "      <th>koi_srad_err2</th>\n",
       "      <th>ra</th>\n",
       "      <th>dec</th>\n",
       "      <th>koi_kepmag</th>\n",
       "    </tr>\n",
       "  </thead>\n",
       "  <tbody>\n",
       "    <tr>\n",
       "      <th>0</th>\n",
       "      <td>0</td>\n",
       "      <td>0</td>\n",
       "      <td>0</td>\n",
       "      <td>0</td>\n",
       "      <td>9.488036</td>\n",
       "      <td>2.775000e-05</td>\n",
       "      <td>-2.775000e-05</td>\n",
       "      <td>170.538750</td>\n",
       "      <td>0.002160</td>\n",
       "      <td>-0.002160</td>\n",
       "      <td>...</td>\n",
       "      <td>-81.0</td>\n",
       "      <td>4.467</td>\n",
       "      <td>0.064</td>\n",
       "      <td>-0.096</td>\n",
       "      <td>0.927</td>\n",
       "      <td>0.105</td>\n",
       "      <td>-0.061</td>\n",
       "      <td>291.93423</td>\n",
       "      <td>48.141651</td>\n",
       "      <td>15.347</td>\n",
       "    </tr>\n",
       "    <tr>\n",
       "      <th>1</th>\n",
       "      <td>0</td>\n",
       "      <td>0</td>\n",
       "      <td>0</td>\n",
       "      <td>0</td>\n",
       "      <td>54.418383</td>\n",
       "      <td>2.479000e-04</td>\n",
       "      <td>-2.479000e-04</td>\n",
       "      <td>162.513840</td>\n",
       "      <td>0.003520</td>\n",
       "      <td>-0.003520</td>\n",
       "      <td>...</td>\n",
       "      <td>-81.0</td>\n",
       "      <td>4.467</td>\n",
       "      <td>0.064</td>\n",
       "      <td>-0.096</td>\n",
       "      <td>0.927</td>\n",
       "      <td>0.105</td>\n",
       "      <td>-0.061</td>\n",
       "      <td>291.93423</td>\n",
       "      <td>48.141651</td>\n",
       "      <td>15.347</td>\n",
       "    </tr>\n",
       "    <tr>\n",
       "      <th>2</th>\n",
       "      <td>0</td>\n",
       "      <td>1</td>\n",
       "      <td>0</td>\n",
       "      <td>0</td>\n",
       "      <td>19.899140</td>\n",
       "      <td>1.494000e-05</td>\n",
       "      <td>-1.494000e-05</td>\n",
       "      <td>175.850252</td>\n",
       "      <td>0.000581</td>\n",
       "      <td>-0.000581</td>\n",
       "      <td>...</td>\n",
       "      <td>-176.0</td>\n",
       "      <td>4.544</td>\n",
       "      <td>0.044</td>\n",
       "      <td>-0.176</td>\n",
       "      <td>0.868</td>\n",
       "      <td>0.233</td>\n",
       "      <td>-0.078</td>\n",
       "      <td>297.00482</td>\n",
       "      <td>48.134129</td>\n",
       "      <td>15.436</td>\n",
       "    </tr>\n",
       "    <tr>\n",
       "      <th>3</th>\n",
       "      <td>0</td>\n",
       "      <td>1</td>\n",
       "      <td>0</td>\n",
       "      <td>0</td>\n",
       "      <td>1.736952</td>\n",
       "      <td>2.630000e-07</td>\n",
       "      <td>-2.630000e-07</td>\n",
       "      <td>170.307565</td>\n",
       "      <td>0.000115</td>\n",
       "      <td>-0.000115</td>\n",
       "      <td>...</td>\n",
       "      <td>-174.0</td>\n",
       "      <td>4.564</td>\n",
       "      <td>0.053</td>\n",
       "      <td>-0.168</td>\n",
       "      <td>0.791</td>\n",
       "      <td>0.201</td>\n",
       "      <td>-0.067</td>\n",
       "      <td>285.53461</td>\n",
       "      <td>48.285210</td>\n",
       "      <td>15.597</td>\n",
       "    </tr>\n",
       "    <tr>\n",
       "      <th>4</th>\n",
       "      <td>0</td>\n",
       "      <td>0</td>\n",
       "      <td>0</td>\n",
       "      <td>0</td>\n",
       "      <td>2.525592</td>\n",
       "      <td>3.761000e-06</td>\n",
       "      <td>-3.761000e-06</td>\n",
       "      <td>171.595550</td>\n",
       "      <td>0.001130</td>\n",
       "      <td>-0.001130</td>\n",
       "      <td>...</td>\n",
       "      <td>-211.0</td>\n",
       "      <td>4.438</td>\n",
       "      <td>0.070</td>\n",
       "      <td>-0.210</td>\n",
       "      <td>1.046</td>\n",
       "      <td>0.334</td>\n",
       "      <td>-0.133</td>\n",
       "      <td>288.75488</td>\n",
       "      <td>48.226200</td>\n",
       "      <td>15.509</td>\n",
       "    </tr>\n",
       "  </tbody>\n",
       "</table>\n",
       "<p>5 rows × 40 columns</p>\n",
       "</div>"
      ],
      "text/plain": [
       "   koi_fpflag_nt  koi_fpflag_ss  koi_fpflag_co  koi_fpflag_ec  koi_period  \\\n",
       "0              0              0              0              0    9.488036   \n",
       "1              0              0              0              0   54.418383   \n",
       "2              0              1              0              0   19.899140   \n",
       "3              0              1              0              0    1.736952   \n",
       "4              0              0              0              0    2.525592   \n",
       "\n",
       "   koi_period_err1  koi_period_err2  koi_time0bk  koi_time0bk_err1  \\\n",
       "0     2.775000e-05    -2.775000e-05   170.538750          0.002160   \n",
       "1     2.479000e-04    -2.479000e-04   162.513840          0.003520   \n",
       "2     1.494000e-05    -1.494000e-05   175.850252          0.000581   \n",
       "3     2.630000e-07    -2.630000e-07   170.307565          0.000115   \n",
       "4     3.761000e-06    -3.761000e-06   171.595550          0.001130   \n",
       "\n",
       "   koi_time0bk_err2     ...      koi_steff_err2  koi_slogg  koi_slogg_err1  \\\n",
       "0         -0.002160     ...               -81.0      4.467           0.064   \n",
       "1         -0.003520     ...               -81.0      4.467           0.064   \n",
       "2         -0.000581     ...              -176.0      4.544           0.044   \n",
       "3         -0.000115     ...              -174.0      4.564           0.053   \n",
       "4         -0.001130     ...              -211.0      4.438           0.070   \n",
       "\n",
       "   koi_slogg_err2  koi_srad  koi_srad_err1  koi_srad_err2         ra  \\\n",
       "0          -0.096     0.927          0.105         -0.061  291.93423   \n",
       "1          -0.096     0.927          0.105         -0.061  291.93423   \n",
       "2          -0.176     0.868          0.233         -0.078  297.00482   \n",
       "3          -0.168     0.791          0.201         -0.067  285.53461   \n",
       "4          -0.210     1.046          0.334         -0.133  288.75488   \n",
       "\n",
       "         dec  koi_kepmag  \n",
       "0  48.141651      15.347  \n",
       "1  48.141651      15.347  \n",
       "2  48.134129      15.436  \n",
       "3  48.285210      15.597  \n",
       "4  48.226200      15.509  \n",
       "\n",
       "[5 rows x 40 columns]"
      ]
     },
     "execution_count": 58,
     "metadata": {},
     "output_type": "execute_result"
    }
   ],
   "source": [
    "X = df.drop(\"koi_disposition\", axis=1)\n",
    "feature_names = X.columns\n",
    "X.head()"
   ]
  },
  {
   "cell_type": "code",
   "execution_count": 59,
   "metadata": {},
   "outputs": [
    {
     "name": "stdout",
     "output_type": "stream",
     "text": [
      "(8744, 40) (8744, 1)\n"
     ]
    }
   ],
   "source": [
    "y = df['koi_disposition'].values.reshape(-1,1)\n",
    "print(X.shape, y.shape)        "
   ]
  },
  {
   "cell_type": "code",
   "execution_count": 60,
   "metadata": {},
   "outputs": [],
   "source": [
    "from sklearn.model_selection import train_test_split\n",
    "X_train, X_test, y_train, y_test = train_test_split(X, y, random_state=42)"
   ]
  },
  {
   "cell_type": "code",
   "execution_count": null,
   "metadata": {},
   "outputs": [],
   "source": []
  },
  {
   "cell_type": "code",
   "execution_count": 61,
   "metadata": {},
   "outputs": [
    {
     "data": {
      "text/html": [
       "<div>\n",
       "<style scoped>\n",
       "    .dataframe tbody tr th:only-of-type {\n",
       "        vertical-align: middle;\n",
       "    }\n",
       "\n",
       "    .dataframe tbody tr th {\n",
       "        vertical-align: top;\n",
       "    }\n",
       "\n",
       "    .dataframe thead th {\n",
       "        text-align: right;\n",
       "    }\n",
       "</style>\n",
       "<table border=\"1\" class=\"dataframe\">\n",
       "  <thead>\n",
       "    <tr style=\"text-align: right;\">\n",
       "      <th></th>\n",
       "      <th>koi_fpflag_nt</th>\n",
       "      <th>koi_fpflag_ss</th>\n",
       "      <th>koi_fpflag_co</th>\n",
       "      <th>koi_fpflag_ec</th>\n",
       "      <th>koi_period</th>\n",
       "      <th>koi_period_err1</th>\n",
       "      <th>koi_period_err2</th>\n",
       "      <th>koi_time0bk</th>\n",
       "      <th>koi_time0bk_err1</th>\n",
       "      <th>koi_time0bk_err2</th>\n",
       "      <th>...</th>\n",
       "      <th>koi_steff_err2</th>\n",
       "      <th>koi_slogg</th>\n",
       "      <th>koi_slogg_err1</th>\n",
       "      <th>koi_slogg_err2</th>\n",
       "      <th>koi_srad</th>\n",
       "      <th>koi_srad_err1</th>\n",
       "      <th>koi_srad_err2</th>\n",
       "      <th>ra</th>\n",
       "      <th>dec</th>\n",
       "      <th>koi_kepmag</th>\n",
       "    </tr>\n",
       "  </thead>\n",
       "  <tbody>\n",
       "    <tr>\n",
       "      <th>8017</th>\n",
       "      <td>0</td>\n",
       "      <td>1</td>\n",
       "      <td>1</td>\n",
       "      <td>0</td>\n",
       "      <td>0.806277</td>\n",
       "      <td>4.947000e-06</td>\n",
       "      <td>-4.947000e-06</td>\n",
       "      <td>131.785670</td>\n",
       "      <td>0.006720</td>\n",
       "      <td>-0.006720</td>\n",
       "      <td>...</td>\n",
       "      <td>-184.0</td>\n",
       "      <td>4.471</td>\n",
       "      <td>0.054</td>\n",
       "      <td>-0.229</td>\n",
       "      <td>0.996</td>\n",
       "      <td>0.324</td>\n",
       "      <td>-0.108</td>\n",
       "      <td>290.81723</td>\n",
       "      <td>38.539120</td>\n",
       "      <td>13.614</td>\n",
       "    </tr>\n",
       "    <tr>\n",
       "      <th>1233</th>\n",
       "      <td>0</td>\n",
       "      <td>1</td>\n",
       "      <td>1</td>\n",
       "      <td>0</td>\n",
       "      <td>3.582077</td>\n",
       "      <td>4.318000e-06</td>\n",
       "      <td>-4.318000e-06</td>\n",
       "      <td>355.515064</td>\n",
       "      <td>0.000864</td>\n",
       "      <td>-0.000864</td>\n",
       "      <td>...</td>\n",
       "      <td>-235.0</td>\n",
       "      <td>4.422</td>\n",
       "      <td>0.090</td>\n",
       "      <td>-0.195</td>\n",
       "      <td>0.993</td>\n",
       "      <td>0.283</td>\n",
       "      <td>-0.131</td>\n",
       "      <td>296.07822</td>\n",
       "      <td>43.136940</td>\n",
       "      <td>15.193</td>\n",
       "    </tr>\n",
       "    <tr>\n",
       "      <th>2592</th>\n",
       "      <td>0</td>\n",
       "      <td>0</td>\n",
       "      <td>0</td>\n",
       "      <td>0</td>\n",
       "      <td>5.060923</td>\n",
       "      <td>2.616000e-05</td>\n",
       "      <td>-2.616000e-05</td>\n",
       "      <td>134.473160</td>\n",
       "      <td>0.004730</td>\n",
       "      <td>-0.004730</td>\n",
       "      <td>...</td>\n",
       "      <td>-112.0</td>\n",
       "      <td>4.492</td>\n",
       "      <td>0.048</td>\n",
       "      <td>-0.112</td>\n",
       "      <td>0.911</td>\n",
       "      <td>0.121</td>\n",
       "      <td>-0.060</td>\n",
       "      <td>289.91742</td>\n",
       "      <td>40.828606</td>\n",
       "      <td>13.346</td>\n",
       "    </tr>\n",
       "    <tr>\n",
       "      <th>4770</th>\n",
       "      <td>0</td>\n",
       "      <td>1</td>\n",
       "      <td>0</td>\n",
       "      <td>1</td>\n",
       "      <td>8.480304</td>\n",
       "      <td>3.320000e-07</td>\n",
       "      <td>-3.320000e-07</td>\n",
       "      <td>135.854534</td>\n",
       "      <td>0.000031</td>\n",
       "      <td>-0.000031</td>\n",
       "      <td>...</td>\n",
       "      <td>-169.0</td>\n",
       "      <td>3.946</td>\n",
       "      <td>0.195</td>\n",
       "      <td>-0.105</td>\n",
       "      <td>2.210</td>\n",
       "      <td>0.375</td>\n",
       "      <td>-0.563</td>\n",
       "      <td>298.80020</td>\n",
       "      <td>46.665539</td>\n",
       "      <td>7.631</td>\n",
       "    </tr>\n",
       "    <tr>\n",
       "      <th>6632</th>\n",
       "      <td>0</td>\n",
       "      <td>0</td>\n",
       "      <td>0</td>\n",
       "      <td>1</td>\n",
       "      <td>4.994716</td>\n",
       "      <td>4.495000e-05</td>\n",
       "      <td>-4.495000e-05</td>\n",
       "      <td>136.183300</td>\n",
       "      <td>0.009500</td>\n",
       "      <td>-0.009500</td>\n",
       "      <td>...</td>\n",
       "      <td>-194.0</td>\n",
       "      <td>3.706</td>\n",
       "      <td>0.320</td>\n",
       "      <td>-0.080</td>\n",
       "      <td>2.830</td>\n",
       "      <td>0.458</td>\n",
       "      <td>-1.068</td>\n",
       "      <td>282.58215</td>\n",
       "      <td>46.815510</td>\n",
       "      <td>13.352</td>\n",
       "    </tr>\n",
       "  </tbody>\n",
       "</table>\n",
       "<p>5 rows × 40 columns</p>\n",
       "</div>"
      ],
      "text/plain": [
       "      koi_fpflag_nt  koi_fpflag_ss  koi_fpflag_co  koi_fpflag_ec  koi_period  \\\n",
       "8017              0              1              1              0    0.806277   \n",
       "1233              0              1              1              0    3.582077   \n",
       "2592              0              0              0              0    5.060923   \n",
       "4770              0              1              0              1    8.480304   \n",
       "6632              0              0              0              1    4.994716   \n",
       "\n",
       "      koi_period_err1  koi_period_err2  koi_time0bk  koi_time0bk_err1  \\\n",
       "8017     4.947000e-06    -4.947000e-06   131.785670          0.006720   \n",
       "1233     4.318000e-06    -4.318000e-06   355.515064          0.000864   \n",
       "2592     2.616000e-05    -2.616000e-05   134.473160          0.004730   \n",
       "4770     3.320000e-07    -3.320000e-07   135.854534          0.000031   \n",
       "6632     4.495000e-05    -4.495000e-05   136.183300          0.009500   \n",
       "\n",
       "      koi_time0bk_err2     ...      koi_steff_err2  koi_slogg  koi_slogg_err1  \\\n",
       "8017         -0.006720     ...              -184.0      4.471           0.054   \n",
       "1233         -0.000864     ...              -235.0      4.422           0.090   \n",
       "2592         -0.004730     ...              -112.0      4.492           0.048   \n",
       "4770         -0.000031     ...              -169.0      3.946           0.195   \n",
       "6632         -0.009500     ...              -194.0      3.706           0.320   \n",
       "\n",
       "      koi_slogg_err2  koi_srad  koi_srad_err1  koi_srad_err2         ra  \\\n",
       "8017          -0.229     0.996          0.324         -0.108  290.81723   \n",
       "1233          -0.195     0.993          0.283         -0.131  296.07822   \n",
       "2592          -0.112     0.911          0.121         -0.060  289.91742   \n",
       "4770          -0.105     2.210          0.375         -0.563  298.80020   \n",
       "6632          -0.080     2.830          0.458         -1.068  282.58215   \n",
       "\n",
       "            dec  koi_kepmag  \n",
       "8017  38.539120      13.614  \n",
       "1233  43.136940      15.193  \n",
       "2592  40.828606      13.346  \n",
       "4770  46.665539       7.631  \n",
       "6632  46.815510      13.352  \n",
       "\n",
       "[5 rows x 40 columns]"
      ]
     },
     "execution_count": 61,
     "metadata": {},
     "output_type": "execute_result"
    }
   ],
   "source": [
    "X_train.head()"
   ]
  },
  {
   "cell_type": "markdown",
   "metadata": {},
   "source": [
    "# Pre-processing\n",
    "\n",
    "Scale the data using the MinMaxScaler"
   ]
  },
  {
   "cell_type": "code",
   "execution_count": 62,
   "metadata": {},
   "outputs": [
    {
     "name": "stderr",
     "output_type": "stream",
     "text": [
      "C:\\Users\\carri\\Anaconda\\Anaconda3\\lib\\site-packages\\sklearn\\preprocessing\\data.py:323: DataConversionWarning: Data with input dtype int64, float64 were all converted to float64 by MinMaxScaler.\n",
      "  return self.partial_fit(X, y)\n"
     ]
    }
   ],
   "source": [
    "from sklearn.preprocessing import MinMaxScaler\n",
    "\n",
    "# Create a StandardScater model and fit it to the training data\n",
    "X_scaler = MinMaxScaler().fit(X_train)"
   ]
  },
  {
   "cell_type": "code",
   "execution_count": 63,
   "metadata": {},
   "outputs": [],
   "source": [
    "# Transform the training and testing data using the X_scaler\n",
    "\n",
    "X_train_scaled = X_scaler.transform(X_train)\n",
    "X_test_scaled = X_scaler.transform(X_test)"
   ]
  },
  {
   "cell_type": "code",
   "execution_count": 64,
   "metadata": {},
   "outputs": [
    {
     "name": "stderr",
     "output_type": "stream",
     "text": [
      "C:\\Users\\carri\\Anaconda\\Anaconda3\\lib\\site-packages\\sklearn\\preprocessing\\label.py:219: DataConversionWarning: A column-vector y was passed when a 1d array was expected. Please change the shape of y to (n_samples, ), for example using ravel().\n",
      "  y = column_or_1d(y, warn=True)\n",
      "C:\\Users\\carri\\Anaconda\\Anaconda3\\lib\\site-packages\\sklearn\\preprocessing\\label.py:252: DataConversionWarning: A column-vector y was passed when a 1d array was expected. Please change the shape of y to (n_samples, ), for example using ravel().\n",
      "  y = column_or_1d(y, warn=True)\n"
     ]
    }
   ],
   "source": [
    "from sklearn.preprocessing import LabelEncoder\n",
    "from tensorflow.keras.utils import to_categorical\n",
    "\n",
    "# Step 1: Label-encode data set\n",
    "label_encoder = LabelEncoder()\n",
    "label_encoder.fit(y_train)\n",
    "encoded_y_train = label_encoder.transform(y_train)\n",
    "encoded_y_test = label_encoder.transform(y_test)\n",
    "\n",
    "# Step 2: Convert encoded labels to one-hot-encoding\n",
    "y_train_categorical = to_categorical(encoded_y_train)\n",
    "y_test_categorical = to_categorical(encoded_y_test)"
   ]
  },
  {
   "cell_type": "code",
   "execution_count": 65,
   "metadata": {},
   "outputs": [
    {
     "data": {
      "text/plain": [
       "array([[0., 0., 1.],\n",
       "       [1., 0., 0.],\n",
       "       [0., 1., 0.],\n",
       "       ...,\n",
       "       [1., 0., 0.],\n",
       "       [0., 0., 1.],\n",
       "       [0., 1., 0.]], dtype=float32)"
      ]
     },
     "execution_count": 65,
     "metadata": {},
     "output_type": "execute_result"
    }
   ],
   "source": [
    "y_test_categorical"
   ]
  },
  {
   "cell_type": "markdown",
   "metadata": {},
   "source": [
    "# Train the Support Vector Machine"
   ]
  },
  {
   "cell_type": "code",
   "execution_count": 66,
   "metadata": {},
   "outputs": [
    {
     "name": "stderr",
     "output_type": "stream",
     "text": [
      "C:\\Users\\carri\\Anaconda\\Anaconda3\\lib\\site-packages\\sklearn\\utils\\validation.py:761: DataConversionWarning: A column-vector y was passed when a 1d array was expected. Please change the shape of y to (n_samples, ), for example using ravel().\n",
      "  y = column_or_1d(y, warn=True)\n"
     ]
    },
    {
     "data": {
      "text/plain": [
       "SVC(C=1.0, cache_size=200, class_weight=None, coef0=0.0,\n",
       "  decision_function_shape='ovr', degree=3, gamma='auto_deprecated',\n",
       "  kernel='linear', max_iter=-1, probability=False, random_state=None,\n",
       "  shrinking=True, tol=0.001, verbose=False)"
      ]
     },
     "execution_count": 66,
     "metadata": {},
     "output_type": "execute_result"
    }
   ],
   "source": [
    "# Support vector machine linear classifier\n",
    "from sklearn.svm import SVC \n",
    "model = SVC(kernel='linear')\n",
    "model.fit(X_train_scaled, y_train)"
   ]
  },
  {
   "cell_type": "code",
   "execution_count": 67,
   "metadata": {},
   "outputs": [
    {
     "name": "stderr",
     "output_type": "stream",
     "text": [
      "C:\\Users\\carri\\Anaconda\\Anaconda3\\lib\\site-packages\\sklearn\\utils\\validation.py:761: DataConversionWarning: A column-vector y was passed when a 1d array was expected. Please change the shape of y to (n_samples, ), for example using ravel().\n",
      "  y = column_or_1d(y, warn=True)\n",
      "C:\\Users\\carri\\Anaconda\\Anaconda3\\lib\\site-packages\\sklearn\\svm\\base.py:196: FutureWarning: The default value of gamma will change from 'auto' to 'scale' in version 0.22 to account better for unscaled features. Set gamma explicitly to 'auto' or 'scale' to avoid this warning.\n",
      "  \"avoid this warning.\", FutureWarning)\n"
     ]
    },
    {
     "data": {
      "text/plain": [
       "SVC(C=1.0, cache_size=200, class_weight=None, coef0=0.0,\n",
       "  decision_function_shape='ovr', degree=3, gamma='auto_deprecated',\n",
       "  kernel='rbf', max_iter=-1, probability=False, random_state=None,\n",
       "  shrinking=True, tol=0.001, verbose=False)"
      ]
     },
     "execution_count": 67,
     "metadata": {},
     "output_type": "execute_result"
    }
   ],
   "source": [
    "# Support vector machine rbf classifier\n",
    "from sklearn.svm import SVC \n",
    "model_rbf = SVC(kernel='rbf')\n",
    "model_rbf.fit(X_train_scaled, y_train)"
   ]
  },
  {
   "cell_type": "code",
   "execution_count": 68,
   "metadata": {},
   "outputs": [
    {
     "name": "stdout",
     "output_type": "stream",
     "text": [
      "Training Data Score with Linear: 0.8502592253735896\n",
      "Testing Data Score with Linear: 0.838975297346752\n",
      "Training Data Score with rbf: 0.8218969197926197\n",
      "Testing Data Score with rbf: 0.7973467520585544\n"
     ]
    }
   ],
   "source": [
    "print(f\"Training Data Score with Linear: {model.score(X_train_scaled, y_train)}\")\n",
    "print(f\"Testing Data Score with Linear: {model.score(X_test_scaled, y_test)}\")\n",
    "print(f\"Training Data Score with rbf: {model_rbf.score(X_train_scaled, y_train)}\")\n",
    "print(f\"Testing Data Score with rbf: {model_rbf.score(X_test_scaled, y_test)}\")"
   ]
  },
  {
   "cell_type": "markdown",
   "metadata": {},
   "source": [
    "### Same thing with standard scalar"
   ]
  },
  {
   "cell_type": "code",
   "execution_count": 69,
   "metadata": {},
   "outputs": [
    {
     "name": "stderr",
     "output_type": "stream",
     "text": [
      "C:\\Users\\carri\\Anaconda\\Anaconda3\\lib\\site-packages\\sklearn\\preprocessing\\data.py:625: DataConversionWarning: Data with input dtype int64, float64 were all converted to float64 by StandardScaler.\n",
      "  return self.partial_fit(X, y)\n"
     ]
    }
   ],
   "source": [
    "from sklearn.preprocessing import StandardScaler\n",
    "\n",
    "# Create a StandardScater model and fit it to the training data\n",
    "X_scaler_stand = StandardScaler().fit(X_train)"
   ]
  },
  {
   "cell_type": "code",
   "execution_count": 70,
   "metadata": {},
   "outputs": [
    {
     "name": "stderr",
     "output_type": "stream",
     "text": [
      "C:\\Users\\carri\\Anaconda\\Anaconda3\\lib\\site-packages\\ipykernel_launcher.py:3: DataConversionWarning: Data with input dtype int64, float64 were all converted to float64 by StandardScaler.\n",
      "  This is separate from the ipykernel package so we can avoid doing imports until\n",
      "C:\\Users\\carri\\Anaconda\\Anaconda3\\lib\\site-packages\\ipykernel_launcher.py:4: DataConversionWarning: Data with input dtype int64, float64 were all converted to float64 by StandardScaler.\n",
      "  after removing the cwd from sys.path.\n"
     ]
    }
   ],
   "source": [
    "# Transform the training and testing data using the X_scaler\n",
    "\n",
    "X_train_scaled = X_scaler_stand.transform(X_train)\n",
    "X_test_scaled = X_scaler_stand.transform(X_test)"
   ]
  },
  {
   "cell_type": "code",
   "execution_count": 71,
   "metadata": {},
   "outputs": [
    {
     "name": "stderr",
     "output_type": "stream",
     "text": [
      "C:\\Users\\carri\\Anaconda\\Anaconda3\\lib\\site-packages\\sklearn\\utils\\validation.py:761: DataConversionWarning: A column-vector y was passed when a 1d array was expected. Please change the shape of y to (n_samples, ), for example using ravel().\n",
      "  y = column_or_1d(y, warn=True)\n",
      "C:\\Users\\carri\\Anaconda\\Anaconda3\\lib\\site-packages\\sklearn\\utils\\validation.py:761: DataConversionWarning: A column-vector y was passed when a 1d array was expected. Please change the shape of y to (n_samples, ), for example using ravel().\n",
      "  y = column_or_1d(y, warn=True)\n"
     ]
    },
    {
     "data": {
      "text/plain": [
       "SVC(C=1.0, cache_size=200, class_weight=None, coef0=0.0,\n",
       "  decision_function_shape='ovr', degree=3, gamma='auto_deprecated',\n",
       "  kernel='rbf', max_iter=-1, probability=False, random_state=None,\n",
       "  shrinking=True, tol=0.001, verbose=False)"
      ]
     },
     "execution_count": 71,
     "metadata": {},
     "output_type": "execute_result"
    }
   ],
   "source": [
    "# Support vector machine linear classifier\n",
    "from sklearn.svm import SVC \n",
    "model2 = SVC(kernel='linear')\n",
    "model2.fit(X_train_scaled, y_train)\n",
    "\n",
    "# Support vector machine rbf classifier\n",
    "model2_rbf = SVC(kernel='rbf')\n",
    "model2_rbf.fit(X_train_scaled, y_train)"
   ]
  },
  {
   "cell_type": "code",
   "execution_count": 72,
   "metadata": {},
   "outputs": [
    {
     "name": "stdout",
     "output_type": "stream",
     "text": [
      "Training Data Score with Linear: 0.8921927416895395\n",
      "Testing Data Score with Linear: 0.8847209515096066\n",
      "Training Data Score with rbf: 0.8888380603842635\n",
      "Testing Data Score with rbf: 0.8796889295516926\n"
     ]
    }
   ],
   "source": [
    "print(f\"Training Data Score with Linear: {model2.score(X_train_scaled, y_train)}\")\n",
    "print(f\"Testing Data Score with Linear: {model2.score(X_test_scaled, y_test)}\")\n",
    "print(f\"Training Data Score with rbf: {model2_rbf.score(X_train_scaled, y_train)}\")\n",
    "print(f\"Testing Data Score with rbf: {model2_rbf.score(X_test_scaled, y_test)}\")"
   ]
  },
  {
   "cell_type": "markdown",
   "metadata": {},
   "source": [
    "# Hyperparameter Tuning\n",
    "\n",
    "Use `GridSearchCV` to tune the `C` and `gamma` parameters"
   ]
  },
  {
   "cell_type": "code",
   "execution_count": 81,
   "metadata": {},
   "outputs": [],
   "source": [
    "# Create the GridSearchCV model\n",
    "from sklearn.model_selection import GridSearchCV\n",
    "param_grid = {'C': [1, 5, 10],\n",
    "              'gamma': [0.001, 0.01, 0.1],\n",
    "              'kernel': ['linear', 'rbf']}\n",
    "grid = GridSearchCV(model, param_grid, verbose=3)"
   ]
  },
  {
   "cell_type": "code",
   "execution_count": null,
   "metadata": {},
   "outputs": [],
   "source": []
  },
  {
   "cell_type": "code",
   "execution_count": 82,
   "metadata": {},
   "outputs": [
    {
     "name": "stderr",
     "output_type": "stream",
     "text": [
      "C:\\Users\\carri\\Anaconda\\Anaconda3\\lib\\site-packages\\sklearn\\model_selection\\_split.py:2053: FutureWarning: You should specify a value for 'cv' instead of relying on the default value. The default value will change from 3 to 5 in version 0.22.\n",
      "  warnings.warn(CV_WARNING, FutureWarning)\n",
      "[Parallel(n_jobs=1)]: Using backend SequentialBackend with 1 concurrent workers.\n",
      "C:\\Users\\carri\\Anaconda\\Anaconda3\\lib\\site-packages\\sklearn\\utils\\validation.py:761: DataConversionWarning: A column-vector y was passed when a 1d array was expected. Please change the shape of y to (n_samples, ), for example using ravel().\n",
      "  y = column_or_1d(y, warn=True)\n"
     ]
    },
    {
     "name": "stdout",
     "output_type": "stream",
     "text": [
      "Fitting 3 folds for each of 18 candidates, totalling 54 fits\n",
      "[CV] C=1, gamma=0.001, kernel=linear .................................\n",
      "[CV]  C=1, gamma=0.001, kernel=linear, score=0.8953382084095064, total=   0.5s\n",
      "[CV] C=1, gamma=0.001, kernel=linear .................................\n"
     ]
    },
    {
     "name": "stderr",
     "output_type": "stream",
     "text": [
      "[Parallel(n_jobs=1)]: Done   1 out of   1 | elapsed:    0.6s remaining:    0.0s\n",
      "C:\\Users\\carri\\Anaconda\\Anaconda3\\lib\\site-packages\\sklearn\\utils\\validation.py:761: DataConversionWarning: A column-vector y was passed when a 1d array was expected. Please change the shape of y to (n_samples, ), for example using ravel().\n",
      "  y = column_or_1d(y, warn=True)\n"
     ]
    },
    {
     "name": "stdout",
     "output_type": "stream",
     "text": [
      "[CV]  C=1, gamma=0.001, kernel=linear, score=0.8764302059496567, total=   0.4s\n",
      "[CV] C=1, gamma=0.001, kernel=linear .................................\n"
     ]
    },
    {
     "name": "stderr",
     "output_type": "stream",
     "text": [
      "[Parallel(n_jobs=1)]: Done   2 out of   2 | elapsed:    1.3s remaining:    0.0s\n",
      "C:\\Users\\carri\\Anaconda\\Anaconda3\\lib\\site-packages\\sklearn\\utils\\validation.py:761: DataConversionWarning: A column-vector y was passed when a 1d array was expected. Please change the shape of y to (n_samples, ), for example using ravel().\n",
      "  y = column_or_1d(y, warn=True)\n"
     ]
    },
    {
     "name": "stdout",
     "output_type": "stream",
     "text": [
      "[CV]  C=1, gamma=0.001, kernel=linear, score=0.8974828375286041, total=   0.9s\n",
      "[CV] C=1, gamma=0.001, kernel=rbf ....................................\n"
     ]
    },
    {
     "name": "stderr",
     "output_type": "stream",
     "text": [
      "C:\\Users\\carri\\Anaconda\\Anaconda3\\lib\\site-packages\\sklearn\\utils\\validation.py:761: DataConversionWarning: A column-vector y was passed when a 1d array was expected. Please change the shape of y to (n_samples, ), for example using ravel().\n",
      "  y = column_or_1d(y, warn=True)\n"
     ]
    },
    {
     "name": "stdout",
     "output_type": "stream",
     "text": [
      "[CV]  C=1, gamma=0.001, kernel=rbf, score=0.8446069469835467, total=   0.8s\n",
      "[CV] C=1, gamma=0.001, kernel=rbf ....................................\n"
     ]
    },
    {
     "name": "stderr",
     "output_type": "stream",
     "text": [
      "C:\\Users\\carri\\Anaconda\\Anaconda3\\lib\\site-packages\\sklearn\\utils\\validation.py:761: DataConversionWarning: A column-vector y was passed when a 1d array was expected. Please change the shape of y to (n_samples, ), for example using ravel().\n",
      "  y = column_or_1d(y, warn=True)\n"
     ]
    },
    {
     "name": "stdout",
     "output_type": "stream",
     "text": [
      "[CV]  C=1, gamma=0.001, kernel=rbf, score=0.8443935926773455, total=   0.8s\n",
      "[CV] C=1, gamma=0.001, kernel=rbf ....................................\n"
     ]
    },
    {
     "name": "stderr",
     "output_type": "stream",
     "text": [
      "C:\\Users\\carri\\Anaconda\\Anaconda3\\lib\\site-packages\\sklearn\\utils\\validation.py:761: DataConversionWarning: A column-vector y was passed when a 1d array was expected. Please change the shape of y to (n_samples, ), for example using ravel().\n",
      "  y = column_or_1d(y, warn=True)\n"
     ]
    },
    {
     "name": "stdout",
     "output_type": "stream",
     "text": [
      "[CV]  C=1, gamma=0.001, kernel=rbf, score=0.8530892448512586, total=   0.8s\n",
      "[CV] C=1, gamma=0.01, kernel=linear ..................................\n"
     ]
    },
    {
     "name": "stderr",
     "output_type": "stream",
     "text": [
      "C:\\Users\\carri\\Anaconda\\Anaconda3\\lib\\site-packages\\sklearn\\utils\\validation.py:761: DataConversionWarning: A column-vector y was passed when a 1d array was expected. Please change the shape of y to (n_samples, ), for example using ravel().\n",
      "  y = column_or_1d(y, warn=True)\n"
     ]
    },
    {
     "name": "stdout",
     "output_type": "stream",
     "text": [
      "[CV]  C=1, gamma=0.01, kernel=linear, score=0.8953382084095064, total=   0.6s\n",
      "[CV] C=1, gamma=0.01, kernel=linear ..................................\n"
     ]
    },
    {
     "name": "stderr",
     "output_type": "stream",
     "text": [
      "C:\\Users\\carri\\Anaconda\\Anaconda3\\lib\\site-packages\\sklearn\\utils\\validation.py:761: DataConversionWarning: A column-vector y was passed when a 1d array was expected. Please change the shape of y to (n_samples, ), for example using ravel().\n",
      "  y = column_or_1d(y, warn=True)\n"
     ]
    },
    {
     "name": "stdout",
     "output_type": "stream",
     "text": [
      "[CV]  C=1, gamma=0.01, kernel=linear, score=0.8764302059496567, total=   0.4s\n",
      "[CV] C=1, gamma=0.01, kernel=linear ..................................\n"
     ]
    },
    {
     "name": "stderr",
     "output_type": "stream",
     "text": [
      "C:\\Users\\carri\\Anaconda\\Anaconda3\\lib\\site-packages\\sklearn\\utils\\validation.py:761: DataConversionWarning: A column-vector y was passed when a 1d array was expected. Please change the shape of y to (n_samples, ), for example using ravel().\n",
      "  y = column_or_1d(y, warn=True)\n"
     ]
    },
    {
     "name": "stdout",
     "output_type": "stream",
     "text": [
      "[CV]  C=1, gamma=0.01, kernel=linear, score=0.8974828375286041, total=   0.9s\n",
      "[CV] C=1, gamma=0.01, kernel=rbf .....................................\n"
     ]
    },
    {
     "name": "stderr",
     "output_type": "stream",
     "text": [
      "C:\\Users\\carri\\Anaconda\\Anaconda3\\lib\\site-packages\\sklearn\\utils\\validation.py:761: DataConversionWarning: A column-vector y was passed when a 1d array was expected. Please change the shape of y to (n_samples, ), for example using ravel().\n",
      "  y = column_or_1d(y, warn=True)\n"
     ]
    },
    {
     "name": "stdout",
     "output_type": "stream",
     "text": [
      "[CV]  C=1, gamma=0.01, kernel=rbf, score=0.8674588665447898, total=   0.5s\n",
      "[CV] C=1, gamma=0.01, kernel=rbf .....................................\n"
     ]
    },
    {
     "name": "stderr",
     "output_type": "stream",
     "text": [
      "C:\\Users\\carri\\Anaconda\\Anaconda3\\lib\\site-packages\\sklearn\\utils\\validation.py:761: DataConversionWarning: A column-vector y was passed when a 1d array was expected. Please change the shape of y to (n_samples, ), for example using ravel().\n",
      "  y = column_or_1d(y, warn=True)\n"
     ]
    },
    {
     "name": "stdout",
     "output_type": "stream",
     "text": [
      "[CV]  C=1, gamma=0.01, kernel=rbf, score=0.8590389016018307, total=   0.4s\n",
      "[CV] C=1, gamma=0.01, kernel=rbf .....................................\n"
     ]
    },
    {
     "name": "stderr",
     "output_type": "stream",
     "text": [
      "C:\\Users\\carri\\Anaconda\\Anaconda3\\lib\\site-packages\\sklearn\\utils\\validation.py:761: DataConversionWarning: A column-vector y was passed when a 1d array was expected. Please change the shape of y to (n_samples, ), for example using ravel().\n",
      "  y = column_or_1d(y, warn=True)\n"
     ]
    },
    {
     "name": "stdout",
     "output_type": "stream",
     "text": [
      "[CV]  C=1, gamma=0.01, kernel=rbf, score=0.8796338672768879, total=   0.5s\n",
      "[CV] C=1, gamma=0.1, kernel=linear ...................................\n"
     ]
    },
    {
     "name": "stderr",
     "output_type": "stream",
     "text": [
      "C:\\Users\\carri\\Anaconda\\Anaconda3\\lib\\site-packages\\sklearn\\utils\\validation.py:761: DataConversionWarning: A column-vector y was passed when a 1d array was expected. Please change the shape of y to (n_samples, ), for example using ravel().\n",
      "  y = column_or_1d(y, warn=True)\n"
     ]
    },
    {
     "name": "stdout",
     "output_type": "stream",
     "text": [
      "[CV]  C=1, gamma=0.1, kernel=linear, score=0.8953382084095064, total=   0.6s\n",
      "[CV] C=1, gamma=0.1, kernel=linear ...................................\n"
     ]
    },
    {
     "name": "stderr",
     "output_type": "stream",
     "text": [
      "C:\\Users\\carri\\Anaconda\\Anaconda3\\lib\\site-packages\\sklearn\\utils\\validation.py:761: DataConversionWarning: A column-vector y was passed when a 1d array was expected. Please change the shape of y to (n_samples, ), for example using ravel().\n",
      "  y = column_or_1d(y, warn=True)\n"
     ]
    },
    {
     "name": "stdout",
     "output_type": "stream",
     "text": [
      "[CV]  C=1, gamma=0.1, kernel=linear, score=0.8764302059496567, total=   0.4s\n",
      "[CV] C=1, gamma=0.1, kernel=linear ...................................\n"
     ]
    },
    {
     "name": "stderr",
     "output_type": "stream",
     "text": [
      "C:\\Users\\carri\\Anaconda\\Anaconda3\\lib\\site-packages\\sklearn\\utils\\validation.py:761: DataConversionWarning: A column-vector y was passed when a 1d array was expected. Please change the shape of y to (n_samples, ), for example using ravel().\n",
      "  y = column_or_1d(y, warn=True)\n"
     ]
    },
    {
     "name": "stdout",
     "output_type": "stream",
     "text": [
      "[CV]  C=1, gamma=0.1, kernel=linear, score=0.8974828375286041, total=   0.8s\n",
      "[CV] C=1, gamma=0.1, kernel=rbf ......................................\n"
     ]
    },
    {
     "name": "stderr",
     "output_type": "stream",
     "text": [
      "C:\\Users\\carri\\Anaconda\\Anaconda3\\lib\\site-packages\\sklearn\\utils\\validation.py:761: DataConversionWarning: A column-vector y was passed when a 1d array was expected. Please change the shape of y to (n_samples, ), for example using ravel().\n",
      "  y = column_or_1d(y, warn=True)\n"
     ]
    },
    {
     "name": "stdout",
     "output_type": "stream",
     "text": [
      "[CV]  C=1, gamma=0.1, kernel=rbf, score=0.870201096892139, total=   0.7s\n",
      "[CV] C=1, gamma=0.1, kernel=rbf ......................................\n"
     ]
    },
    {
     "name": "stderr",
     "output_type": "stream",
     "text": [
      "C:\\Users\\carri\\Anaconda\\Anaconda3\\lib\\site-packages\\sklearn\\utils\\validation.py:761: DataConversionWarning: A column-vector y was passed when a 1d array was expected. Please change the shape of y to (n_samples, ), for example using ravel().\n",
      "  y = column_or_1d(y, warn=True)\n"
     ]
    },
    {
     "name": "stdout",
     "output_type": "stream",
     "text": [
      "[CV]  C=1, gamma=0.1, kernel=rbf, score=0.8466819221967964, total=   0.7s\n",
      "[CV] C=1, gamma=0.1, kernel=rbf ......................................\n"
     ]
    },
    {
     "name": "stderr",
     "output_type": "stream",
     "text": [
      "C:\\Users\\carri\\Anaconda\\Anaconda3\\lib\\site-packages\\sklearn\\utils\\validation.py:761: DataConversionWarning: A column-vector y was passed when a 1d array was expected. Please change the shape of y to (n_samples, ), for example using ravel().\n",
      "  y = column_or_1d(y, warn=True)\n"
     ]
    },
    {
     "name": "stdout",
     "output_type": "stream",
     "text": [
      "[CV]  C=1, gamma=0.1, kernel=rbf, score=0.8796338672768879, total=   0.8s\n",
      "[CV] C=5, gamma=0.001, kernel=linear .................................\n"
     ]
    },
    {
     "name": "stderr",
     "output_type": "stream",
     "text": [
      "C:\\Users\\carri\\Anaconda\\Anaconda3\\lib\\site-packages\\sklearn\\utils\\validation.py:761: DataConversionWarning: A column-vector y was passed when a 1d array was expected. Please change the shape of y to (n_samples, ), for example using ravel().\n",
      "  y = column_or_1d(y, warn=True)\n"
     ]
    },
    {
     "name": "stdout",
     "output_type": "stream",
     "text": [
      "[CV]  C=5, gamma=0.001, kernel=linear, score=0.8944241316270567, total=   0.7s\n",
      "[CV] C=5, gamma=0.001, kernel=linear .................................\n"
     ]
    },
    {
     "name": "stderr",
     "output_type": "stream",
     "text": [
      "C:\\Users\\carri\\Anaconda\\Anaconda3\\lib\\site-packages\\sklearn\\utils\\validation.py:761: DataConversionWarning: A column-vector y was passed when a 1d array was expected. Please change the shape of y to (n_samples, ), for example using ravel().\n",
      "  y = column_or_1d(y, warn=True)\n"
     ]
    },
    {
     "name": "stdout",
     "output_type": "stream",
     "text": [
      "[CV]  C=5, gamma=0.001, kernel=linear, score=0.8727688787185355, total=   0.6s\n",
      "[CV] C=5, gamma=0.001, kernel=linear .................................\n"
     ]
    },
    {
     "name": "stderr",
     "output_type": "stream",
     "text": [
      "C:\\Users\\carri\\Anaconda\\Anaconda3\\lib\\site-packages\\sklearn\\utils\\validation.py:761: DataConversionWarning: A column-vector y was passed when a 1d array was expected. Please change the shape of y to (n_samples, ), for example using ravel().\n",
      "  y = column_or_1d(y, warn=True)\n"
     ]
    },
    {
     "name": "stdout",
     "output_type": "stream",
     "text": [
      "[CV]  C=5, gamma=0.001, kernel=linear, score=0.8947368421052632, total=   1.8s\n",
      "[CV] C=5, gamma=0.001, kernel=rbf ....................................\n"
     ]
    },
    {
     "name": "stderr",
     "output_type": "stream",
     "text": [
      "C:\\Users\\carri\\Anaconda\\Anaconda3\\lib\\site-packages\\sklearn\\utils\\validation.py:761: DataConversionWarning: A column-vector y was passed when a 1d array was expected. Please change the shape of y to (n_samples, ), for example using ravel().\n",
      "  y = column_or_1d(y, warn=True)\n"
     ]
    },
    {
     "name": "stdout",
     "output_type": "stream",
     "text": [
      "[CV]  C=5, gamma=0.001, kernel=rbf, score=0.8647166361974405, total=   0.6s\n",
      "[CV] C=5, gamma=0.001, kernel=rbf ....................................\n"
     ]
    },
    {
     "name": "stderr",
     "output_type": "stream",
     "text": [
      "C:\\Users\\carri\\Anaconda\\Anaconda3\\lib\\site-packages\\sklearn\\utils\\validation.py:761: DataConversionWarning: A column-vector y was passed when a 1d array was expected. Please change the shape of y to (n_samples, ), for example using ravel().\n",
      "  y = column_or_1d(y, warn=True)\n"
     ]
    },
    {
     "name": "stdout",
     "output_type": "stream",
     "text": [
      "[CV]  C=5, gamma=0.001, kernel=rbf, score=0.854462242562929, total=   0.5s\n",
      "[CV] C=5, gamma=0.001, kernel=rbf ....................................\n"
     ]
    },
    {
     "name": "stderr",
     "output_type": "stream",
     "text": [
      "C:\\Users\\carri\\Anaconda\\Anaconda3\\lib\\site-packages\\sklearn\\utils\\validation.py:761: DataConversionWarning: A column-vector y was passed when a 1d array was expected. Please change the shape of y to (n_samples, ), for example using ravel().\n",
      "  y = column_or_1d(y, warn=True)\n"
     ]
    },
    {
     "name": "stdout",
     "output_type": "stream",
     "text": [
      "[CV]  C=5, gamma=0.001, kernel=rbf, score=0.8759725400457666, total=   0.5s\n",
      "[CV] C=5, gamma=0.01, kernel=linear ..................................\n"
     ]
    },
    {
     "name": "stderr",
     "output_type": "stream",
     "text": [
      "C:\\Users\\carri\\Anaconda\\Anaconda3\\lib\\site-packages\\sklearn\\utils\\validation.py:761: DataConversionWarning: A column-vector y was passed when a 1d array was expected. Please change the shape of y to (n_samples, ), for example using ravel().\n",
      "  y = column_or_1d(y, warn=True)\n"
     ]
    },
    {
     "name": "stdout",
     "output_type": "stream",
     "text": [
      "[CV]  C=5, gamma=0.01, kernel=linear, score=0.8944241316270567, total=   0.7s\n",
      "[CV] C=5, gamma=0.01, kernel=linear ..................................\n"
     ]
    },
    {
     "name": "stderr",
     "output_type": "stream",
     "text": [
      "C:\\Users\\carri\\Anaconda\\Anaconda3\\lib\\site-packages\\sklearn\\utils\\validation.py:761: DataConversionWarning: A column-vector y was passed when a 1d array was expected. Please change the shape of y to (n_samples, ), for example using ravel().\n",
      "  y = column_or_1d(y, warn=True)\n"
     ]
    },
    {
     "name": "stdout",
     "output_type": "stream",
     "text": [
      "[CV]  C=5, gamma=0.01, kernel=linear, score=0.8727688787185355, total=   0.6s\n",
      "[CV] C=5, gamma=0.01, kernel=linear ..................................\n"
     ]
    },
    {
     "name": "stderr",
     "output_type": "stream",
     "text": [
      "C:\\Users\\carri\\Anaconda\\Anaconda3\\lib\\site-packages\\sklearn\\utils\\validation.py:761: DataConversionWarning: A column-vector y was passed when a 1d array was expected. Please change the shape of y to (n_samples, ), for example using ravel().\n",
      "  y = column_or_1d(y, warn=True)\n"
     ]
    },
    {
     "name": "stdout",
     "output_type": "stream",
     "text": [
      "[CV]  C=5, gamma=0.01, kernel=linear, score=0.8947368421052632, total=   1.9s\n",
      "[CV] C=5, gamma=0.01, kernel=rbf .....................................\n"
     ]
    },
    {
     "name": "stderr",
     "output_type": "stream",
     "text": [
      "C:\\Users\\carri\\Anaconda\\Anaconda3\\lib\\site-packages\\sklearn\\utils\\validation.py:761: DataConversionWarning: A column-vector y was passed when a 1d array was expected. Please change the shape of y to (n_samples, ), for example using ravel().\n",
      "  y = column_or_1d(y, warn=True)\n"
     ]
    },
    {
     "name": "stdout",
     "output_type": "stream",
     "text": [
      "[CV]  C=5, gamma=0.01, kernel=rbf, score=0.8857404021937842, total=   0.4s\n",
      "[CV] C=5, gamma=0.01, kernel=rbf .....................................\n"
     ]
    },
    {
     "name": "stderr",
     "output_type": "stream",
     "text": [
      "C:\\Users\\carri\\Anaconda\\Anaconda3\\lib\\site-packages\\sklearn\\utils\\validation.py:761: DataConversionWarning: A column-vector y was passed when a 1d array was expected. Please change the shape of y to (n_samples, ), for example using ravel().\n",
      "  y = column_or_1d(y, warn=True)\n"
     ]
    },
    {
     "name": "stdout",
     "output_type": "stream",
     "text": [
      "[CV]  C=5, gamma=0.01, kernel=rbf, score=0.8700228832951945, total=   0.4s\n",
      "[CV] C=5, gamma=0.01, kernel=rbf .....................................\n"
     ]
    },
    {
     "name": "stderr",
     "output_type": "stream",
     "text": [
      "C:\\Users\\carri\\Anaconda\\Anaconda3\\lib\\site-packages\\sklearn\\utils\\validation.py:761: DataConversionWarning: A column-vector y was passed when a 1d array was expected. Please change the shape of y to (n_samples, ), for example using ravel().\n",
      "  y = column_or_1d(y, warn=True)\n"
     ]
    },
    {
     "name": "stdout",
     "output_type": "stream",
     "text": [
      "[CV]  C=5, gamma=0.01, kernel=rbf, score=0.8947368421052632, total=   0.4s\n",
      "[CV] C=5, gamma=0.1, kernel=linear ...................................\n"
     ]
    },
    {
     "name": "stderr",
     "output_type": "stream",
     "text": [
      "C:\\Users\\carri\\Anaconda\\Anaconda3\\lib\\site-packages\\sklearn\\utils\\validation.py:761: DataConversionWarning: A column-vector y was passed when a 1d array was expected. Please change the shape of y to (n_samples, ), for example using ravel().\n",
      "  y = column_or_1d(y, warn=True)\n"
     ]
    },
    {
     "name": "stdout",
     "output_type": "stream",
     "text": [
      "[CV]  C=5, gamma=0.1, kernel=linear, score=0.8944241316270567, total=   0.7s\n",
      "[CV] C=5, gamma=0.1, kernel=linear ...................................\n"
     ]
    },
    {
     "name": "stderr",
     "output_type": "stream",
     "text": [
      "C:\\Users\\carri\\Anaconda\\Anaconda3\\lib\\site-packages\\sklearn\\utils\\validation.py:761: DataConversionWarning: A column-vector y was passed when a 1d array was expected. Please change the shape of y to (n_samples, ), for example using ravel().\n",
      "  y = column_or_1d(y, warn=True)\n"
     ]
    },
    {
     "name": "stdout",
     "output_type": "stream",
     "text": [
      "[CV]  C=5, gamma=0.1, kernel=linear, score=0.8727688787185355, total=   0.8s\n",
      "[CV] C=5, gamma=0.1, kernel=linear ...................................\n"
     ]
    },
    {
     "name": "stderr",
     "output_type": "stream",
     "text": [
      "C:\\Users\\carri\\Anaconda\\Anaconda3\\lib\\site-packages\\sklearn\\utils\\validation.py:761: DataConversionWarning: A column-vector y was passed when a 1d array was expected. Please change the shape of y to (n_samples, ), for example using ravel().\n",
      "  y = column_or_1d(y, warn=True)\n"
     ]
    },
    {
     "name": "stdout",
     "output_type": "stream",
     "text": [
      "[CV]  C=5, gamma=0.1, kernel=linear, score=0.8947368421052632, total=   1.8s\n",
      "[CV] C=5, gamma=0.1, kernel=rbf ......................................\n"
     ]
    },
    {
     "name": "stderr",
     "output_type": "stream",
     "text": [
      "C:\\Users\\carri\\Anaconda\\Anaconda3\\lib\\site-packages\\sklearn\\utils\\validation.py:761: DataConversionWarning: A column-vector y was passed when a 1d array was expected. Please change the shape of y to (n_samples, ), for example using ravel().\n",
      "  y = column_or_1d(y, warn=True)\n"
     ]
    },
    {
     "name": "stdout",
     "output_type": "stream",
     "text": [
      "[CV]  C=5, gamma=0.1, kernel=rbf, score=0.8775137111517367, total=   0.7s\n",
      "[CV] C=5, gamma=0.1, kernel=rbf ......................................\n"
     ]
    },
    {
     "name": "stderr",
     "output_type": "stream",
     "text": [
      "C:\\Users\\carri\\Anaconda\\Anaconda3\\lib\\site-packages\\sklearn\\utils\\validation.py:761: DataConversionWarning: A column-vector y was passed when a 1d array was expected. Please change the shape of y to (n_samples, ), for example using ravel().\n",
      "  y = column_or_1d(y, warn=True)\n"
     ]
    },
    {
     "name": "stdout",
     "output_type": "stream",
     "text": [
      "[CV]  C=5, gamma=0.1, kernel=rbf, score=0.8640732265446224, total=   0.7s\n",
      "[CV] C=5, gamma=0.1, kernel=rbf ......................................\n"
     ]
    },
    {
     "name": "stderr",
     "output_type": "stream",
     "text": [
      "C:\\Users\\carri\\Anaconda\\Anaconda3\\lib\\site-packages\\sklearn\\utils\\validation.py:761: DataConversionWarning: A column-vector y was passed when a 1d array was expected. Please change the shape of y to (n_samples, ), for example using ravel().\n",
      "  y = column_or_1d(y, warn=True)\n"
     ]
    },
    {
     "name": "stdout",
     "output_type": "stream",
     "text": [
      "[CV]  C=5, gamma=0.1, kernel=rbf, score=0.8764302059496567, total=   0.8s\n",
      "[CV] C=10, gamma=0.001, kernel=linear ................................\n"
     ]
    },
    {
     "name": "stderr",
     "output_type": "stream",
     "text": [
      "C:\\Users\\carri\\Anaconda\\Anaconda3\\lib\\site-packages\\sklearn\\utils\\validation.py:761: DataConversionWarning: A column-vector y was passed when a 1d array was expected. Please change the shape of y to (n_samples, ), for example using ravel().\n",
      "  y = column_or_1d(y, warn=True)\n"
     ]
    },
    {
     "name": "stdout",
     "output_type": "stream",
     "text": [
      "[CV]  C=10, gamma=0.001, kernel=linear, score=0.8957952468007313, total=   1.0s\n",
      "[CV] C=10, gamma=0.001, kernel=linear ................................\n"
     ]
    },
    {
     "name": "stderr",
     "output_type": "stream",
     "text": [
      "C:\\Users\\carri\\Anaconda\\Anaconda3\\lib\\site-packages\\sklearn\\utils\\validation.py:761: DataConversionWarning: A column-vector y was passed when a 1d array was expected. Please change the shape of y to (n_samples, ), for example using ravel().\n",
      "  y = column_or_1d(y, warn=True)\n"
     ]
    },
    {
     "name": "stdout",
     "output_type": "stream",
     "text": [
      "[CV]  C=10, gamma=0.001, kernel=linear, score=0.8727688787185355, total=   0.8s\n",
      "[CV] C=10, gamma=0.001, kernel=linear ................................\n"
     ]
    },
    {
     "name": "stderr",
     "output_type": "stream",
     "text": [
      "C:\\Users\\carri\\Anaconda\\Anaconda3\\lib\\site-packages\\sklearn\\utils\\validation.py:761: DataConversionWarning: A column-vector y was passed when a 1d array was expected. Please change the shape of y to (n_samples, ), for example using ravel().\n",
      "  y = column_or_1d(y, warn=True)\n"
     ]
    },
    {
     "name": "stdout",
     "output_type": "stream",
     "text": [
      "[CV]  C=10, gamma=0.001, kernel=linear, score=0.8956521739130435, total=   2.1s\n",
      "[CV] C=10, gamma=0.001, kernel=rbf ...................................\n"
     ]
    },
    {
     "name": "stderr",
     "output_type": "stream",
     "text": [
      "C:\\Users\\carri\\Anaconda\\Anaconda3\\lib\\site-packages\\sklearn\\utils\\validation.py:761: DataConversionWarning: A column-vector y was passed when a 1d array was expected. Please change the shape of y to (n_samples, ), for example using ravel().\n",
      "  y = column_or_1d(y, warn=True)\n"
     ]
    },
    {
     "name": "stdout",
     "output_type": "stream",
     "text": [
      "[CV]  C=10, gamma=0.001, kernel=rbf, score=0.8697440585009141, total=   0.5s\n",
      "[CV] C=10, gamma=0.001, kernel=rbf ...................................\n"
     ]
    },
    {
     "name": "stderr",
     "output_type": "stream",
     "text": [
      "C:\\Users\\carri\\Anaconda\\Anaconda3\\lib\\site-packages\\sklearn\\utils\\validation.py:761: DataConversionWarning: A column-vector y was passed when a 1d array was expected. Please change the shape of y to (n_samples, ), for example using ravel().\n",
      "  y = column_or_1d(y, warn=True)\n"
     ]
    },
    {
     "name": "stdout",
     "output_type": "stream",
     "text": [
      "[CV]  C=10, gamma=0.001, kernel=rbf, score=0.859954233409611, total=   0.4s\n",
      "[CV] C=10, gamma=0.001, kernel=rbf ...................................\n"
     ]
    },
    {
     "name": "stderr",
     "output_type": "stream",
     "text": [
      "C:\\Users\\carri\\Anaconda\\Anaconda3\\lib\\site-packages\\sklearn\\utils\\validation.py:761: DataConversionWarning: A column-vector y was passed when a 1d array was expected. Please change the shape of y to (n_samples, ), for example using ravel().\n",
      "  y = column_or_1d(y, warn=True)\n"
     ]
    },
    {
     "name": "stdout",
     "output_type": "stream",
     "text": [
      "[CV]  C=10, gamma=0.001, kernel=rbf, score=0.8869565217391304, total=   0.5s\n",
      "[CV] C=10, gamma=0.01, kernel=linear .................................\n"
     ]
    },
    {
     "name": "stderr",
     "output_type": "stream",
     "text": [
      "C:\\Users\\carri\\Anaconda\\Anaconda3\\lib\\site-packages\\sklearn\\utils\\validation.py:761: DataConversionWarning: A column-vector y was passed when a 1d array was expected. Please change the shape of y to (n_samples, ), for example using ravel().\n",
      "  y = column_or_1d(y, warn=True)\n"
     ]
    },
    {
     "name": "stdout",
     "output_type": "stream",
     "text": [
      "[CV]  C=10, gamma=0.01, kernel=linear, score=0.8957952468007313, total=   1.0s\n",
      "[CV] C=10, gamma=0.01, kernel=linear .................................\n"
     ]
    },
    {
     "name": "stderr",
     "output_type": "stream",
     "text": [
      "C:\\Users\\carri\\Anaconda\\Anaconda3\\lib\\site-packages\\sklearn\\utils\\validation.py:761: DataConversionWarning: A column-vector y was passed when a 1d array was expected. Please change the shape of y to (n_samples, ), for example using ravel().\n",
      "  y = column_or_1d(y, warn=True)\n"
     ]
    },
    {
     "name": "stdout",
     "output_type": "stream",
     "text": [
      "[CV]  C=10, gamma=0.01, kernel=linear, score=0.8727688787185355, total=   0.8s\n",
      "[CV] C=10, gamma=0.01, kernel=linear .................................\n"
     ]
    },
    {
     "name": "stderr",
     "output_type": "stream",
     "text": [
      "C:\\Users\\carri\\Anaconda\\Anaconda3\\lib\\site-packages\\sklearn\\utils\\validation.py:761: DataConversionWarning: A column-vector y was passed when a 1d array was expected. Please change the shape of y to (n_samples, ), for example using ravel().\n",
      "  y = column_or_1d(y, warn=True)\n"
     ]
    },
    {
     "name": "stdout",
     "output_type": "stream",
     "text": [
      "[CV]  C=10, gamma=0.01, kernel=linear, score=0.8956521739130435, total=   2.2s\n",
      "[CV] C=10, gamma=0.01, kernel=rbf ....................................\n"
     ]
    },
    {
     "name": "stderr",
     "output_type": "stream",
     "text": [
      "C:\\Users\\carri\\Anaconda\\Anaconda3\\lib\\site-packages\\sklearn\\utils\\validation.py:761: DataConversionWarning: A column-vector y was passed when a 1d array was expected. Please change the shape of y to (n_samples, ), for example using ravel().\n",
      "  y = column_or_1d(y, warn=True)\n"
     ]
    },
    {
     "name": "stdout",
     "output_type": "stream",
     "text": [
      "[CV]  C=10, gamma=0.01, kernel=rbf, score=0.8930530164533821, total=   0.4s\n",
      "[CV] C=10, gamma=0.01, kernel=rbf ....................................\n"
     ]
    },
    {
     "name": "stderr",
     "output_type": "stream",
     "text": [
      "C:\\Users\\carri\\Anaconda\\Anaconda3\\lib\\site-packages\\sklearn\\utils\\validation.py:761: DataConversionWarning: A column-vector y was passed when a 1d array was expected. Please change the shape of y to (n_samples, ), for example using ravel().\n",
      "  y = column_or_1d(y, warn=True)\n"
     ]
    },
    {
     "name": "stdout",
     "output_type": "stream",
     "text": [
      "[CV]  C=10, gamma=0.01, kernel=rbf, score=0.8732265446224257, total=   0.3s\n",
      "[CV] C=10, gamma=0.01, kernel=rbf ....................................\n"
     ]
    },
    {
     "name": "stderr",
     "output_type": "stream",
     "text": [
      "C:\\Users\\carri\\Anaconda\\Anaconda3\\lib\\site-packages\\sklearn\\utils\\validation.py:761: DataConversionWarning: A column-vector y was passed when a 1d array was expected. Please change the shape of y to (n_samples, ), for example using ravel().\n",
      "  y = column_or_1d(y, warn=True)\n"
     ]
    },
    {
     "name": "stdout",
     "output_type": "stream",
     "text": [
      "[CV]  C=10, gamma=0.01, kernel=rbf, score=0.8965675057208238, total=   0.4s\n",
      "[CV] C=10, gamma=0.1, kernel=linear ..................................\n"
     ]
    },
    {
     "name": "stderr",
     "output_type": "stream",
     "text": [
      "C:\\Users\\carri\\Anaconda\\Anaconda3\\lib\\site-packages\\sklearn\\utils\\validation.py:761: DataConversionWarning: A column-vector y was passed when a 1d array was expected. Please change the shape of y to (n_samples, ), for example using ravel().\n",
      "  y = column_or_1d(y, warn=True)\n"
     ]
    },
    {
     "name": "stdout",
     "output_type": "stream",
     "text": [
      "[CV]  C=10, gamma=0.1, kernel=linear, score=0.8957952468007313, total=   1.1s\n",
      "[CV] C=10, gamma=0.1, kernel=linear ..................................\n"
     ]
    },
    {
     "name": "stderr",
     "output_type": "stream",
     "text": [
      "C:\\Users\\carri\\Anaconda\\Anaconda3\\lib\\site-packages\\sklearn\\utils\\validation.py:761: DataConversionWarning: A column-vector y was passed when a 1d array was expected. Please change the shape of y to (n_samples, ), for example using ravel().\n",
      "  y = column_or_1d(y, warn=True)\n"
     ]
    },
    {
     "name": "stdout",
     "output_type": "stream",
     "text": [
      "[CV]  C=10, gamma=0.1, kernel=linear, score=0.8727688787185355, total=   0.8s\n",
      "[CV] C=10, gamma=0.1, kernel=linear ..................................\n"
     ]
    },
    {
     "name": "stderr",
     "output_type": "stream",
     "text": [
      "C:\\Users\\carri\\Anaconda\\Anaconda3\\lib\\site-packages\\sklearn\\utils\\validation.py:761: DataConversionWarning: A column-vector y was passed when a 1d array was expected. Please change the shape of y to (n_samples, ), for example using ravel().\n",
      "  y = column_or_1d(y, warn=True)\n"
     ]
    },
    {
     "name": "stdout",
     "output_type": "stream",
     "text": [
      "[CV]  C=10, gamma=0.1, kernel=linear, score=0.8956521739130435, total=   2.1s\n",
      "[CV] C=10, gamma=0.1, kernel=rbf .....................................\n"
     ]
    },
    {
     "name": "stderr",
     "output_type": "stream",
     "text": [
      "C:\\Users\\carri\\Anaconda\\Anaconda3\\lib\\site-packages\\sklearn\\utils\\validation.py:761: DataConversionWarning: A column-vector y was passed when a 1d array was expected. Please change the shape of y to (n_samples, ), for example using ravel().\n",
      "  y = column_or_1d(y, warn=True)\n"
     ]
    },
    {
     "name": "stdout",
     "output_type": "stream",
     "text": [
      "[CV]  C=10, gamma=0.1, kernel=rbf, score=0.8752285191956124, total=   0.7s\n",
      "[CV] C=10, gamma=0.1, kernel=rbf .....................................\n"
     ]
    },
    {
     "name": "stderr",
     "output_type": "stream",
     "text": [
      "C:\\Users\\carri\\Anaconda\\Anaconda3\\lib\\site-packages\\sklearn\\utils\\validation.py:761: DataConversionWarning: A column-vector y was passed when a 1d array was expected. Please change the shape of y to (n_samples, ), for example using ravel().\n",
      "  y = column_or_1d(y, warn=True)\n"
     ]
    },
    {
     "name": "stdout",
     "output_type": "stream",
     "text": [
      "[CV]  C=10, gamma=0.1, kernel=rbf, score=0.8622425629290618, total=   0.6s\n",
      "[CV] C=10, gamma=0.1, kernel=rbf .....................................\n"
     ]
    },
    {
     "name": "stderr",
     "output_type": "stream",
     "text": [
      "C:\\Users\\carri\\Anaconda\\Anaconda3\\lib\\site-packages\\sklearn\\utils\\validation.py:761: DataConversionWarning: A column-vector y was passed when a 1d array was expected. Please change the shape of y to (n_samples, ), for example using ravel().\n",
      "  y = column_or_1d(y, warn=True)\n"
     ]
    },
    {
     "name": "stdout",
     "output_type": "stream",
     "text": [
      "[CV]  C=10, gamma=0.1, kernel=rbf, score=0.8727688787185355, total=   0.7s\n"
     ]
    },
    {
     "name": "stderr",
     "output_type": "stream",
     "text": [
      "[Parallel(n_jobs=1)]: Done  54 out of  54 | elapsed:  1.0min finished\n",
      "C:\\Users\\carri\\Anaconda\\Anaconda3\\lib\\site-packages\\sklearn\\utils\\validation.py:761: DataConversionWarning: A column-vector y was passed when a 1d array was expected. Please change the shape of y to (n_samples, ), for example using ravel().\n",
      "  y = column_or_1d(y, warn=True)\n"
     ]
    },
    {
     "data": {
      "text/plain": [
       "GridSearchCV(cv='warn', error_score='raise-deprecating',\n",
       "       estimator=SVC(C=1.0, cache_size=200, class_weight=None, coef0=0.0,\n",
       "  decision_function_shape='ovr', degree=3, gamma='auto_deprecated',\n",
       "  kernel='linear', max_iter=-1, probability=False, random_state=None,\n",
       "  shrinking=True, tol=0.001, verbose=False),\n",
       "       fit_params=None, iid='warn', n_jobs=None,\n",
       "       param_grid={'C': [1, 5, 10], 'gamma': [0.001, 0.01, 0.1], 'kernel': ['linear', 'rbf']},\n",
       "       pre_dispatch='2*n_jobs', refit=True, return_train_score='warn',\n",
       "       scoring=None, verbose=3)"
      ]
     },
     "execution_count": 82,
     "metadata": {},
     "output_type": "execute_result"
    }
   ],
   "source": [
    "# Train the model with GridSearch\n",
    "grid.fit(X_train_scaled, y_train)"
   ]
  },
  {
   "cell_type": "code",
   "execution_count": 83,
   "metadata": {},
   "outputs": [],
   "source": [
    "# Make predictions with the hypertuned model\n",
    "predictions = grid.predict(X_test_scaled)"
   ]
  },
  {
   "cell_type": "code",
   "execution_count": 84,
   "metadata": {},
   "outputs": [
    {
     "name": "stdout",
     "output_type": "stream",
     "text": [
      "                precision    recall  f1-score   support\n",
      "\n",
      "     CONFIRMED       0.84      0.68      0.75       523\n",
      "      CANIDATE       0.76      0.86      0.81       594\n",
      "FALSE POSITIVE       0.98      1.00      0.99      1069\n",
      "\n",
      "     micro avg       0.88      0.88      0.88      2186\n",
      "     macro avg       0.86      0.85      0.85      2186\n",
      "  weighted avg       0.89      0.88      0.88      2186\n",
      "\n"
     ]
    }
   ],
   "source": [
    "# Calculate classification report\n",
    "from sklearn.metrics import classification_report\n",
    "print(classification_report(y_test, predictions,\n",
    "                            target_names=[\"CONFIRMED\", \"CANIDATE\", \"FALSE POSITIVE\"]))"
   ]
  },
  {
   "cell_type": "code",
   "execution_count": 85,
   "metadata": {},
   "outputs": [
    {
     "name": "stdout",
     "output_type": "stream",
     "text": [
      "{'C': 1, 'gamma': 0.001, 'kernel': 'linear'}\n",
      "0.8897529734675206\n"
     ]
    }
   ],
   "source": [
    "print(grid.best_params_)\n",
    "print(grid.best_score_)"
   ]
  },
  {
   "cell_type": "markdown",
   "metadata": {},
   "source": [
    "# Basic Neuro Network"
   ]
  },
  {
   "cell_type": "code",
   "execution_count": 86,
   "metadata": {},
   "outputs": [],
   "source": [
    "# Create a deep learning model with an extra hidden layer of 6 nodes called `deep_model`\n",
    "from tensorflow.keras.models import Sequential\n",
    "from tensorflow.keras.layers import Dense\n",
    "\n",
    "model = Sequential()\n",
    "model.add(Dense(units=6, activation='relu', input_dim=40))\n",
    "model.add(Dense(units=3, activation='softmax'))"
   ]
  },
  {
   "cell_type": "code",
   "execution_count": 87,
   "metadata": {},
   "outputs": [],
   "source": [
    "# Compile the model\n",
    "model.compile(optimizer='adam',\n",
    "              loss='categorical_crossentropy',\n",
    "              metrics=['accuracy'])"
   ]
  },
  {
   "cell_type": "code",
   "execution_count": 88,
   "metadata": {},
   "outputs": [
    {
     "name": "stdout",
     "output_type": "stream",
     "text": [
      "Epoch 1/100\n",
      " - 0s - loss: 0.8873 - acc: 0.5589\n",
      "Epoch 2/100\n",
      " - 0s - loss: 0.5963 - acc: 0.7722\n",
      "Epoch 3/100\n",
      " - 0s - loss: 0.4514 - acc: 0.8205\n",
      "Epoch 4/100\n",
      " - 0s - loss: 0.3891 - acc: 0.8330\n",
      "Epoch 5/100\n",
      " - 0s - loss: 0.3543 - acc: 0.8481\n",
      "Epoch 6/100\n",
      " - 0s - loss: 0.3302 - acc: 0.8593\n",
      "Epoch 7/100\n",
      " - 0s - loss: 0.3126 - acc: 0.8689\n",
      "Epoch 8/100\n",
      " - 0s - loss: 0.3013 - acc: 0.8734\n",
      "Epoch 9/100\n",
      " - 0s - loss: 0.2933 - acc: 0.8780\n",
      "Epoch 10/100\n",
      " - 0s - loss: 0.2879 - acc: 0.8797\n",
      "Epoch 11/100\n",
      " - 0s - loss: 0.2828 - acc: 0.8835\n",
      "Epoch 12/100\n",
      " - 0s - loss: 0.2795 - acc: 0.8838\n",
      "Epoch 13/100\n",
      " - 0s - loss: 0.2759 - acc: 0.8859\n",
      "Epoch 14/100\n",
      " - 0s - loss: 0.2742 - acc: 0.8869\n",
      "Epoch 15/100\n",
      " - 0s - loss: 0.2718 - acc: 0.8882\n",
      "Epoch 16/100\n",
      " - 0s - loss: 0.2695 - acc: 0.8885\n",
      "Epoch 17/100\n",
      " - 0s - loss: 0.2677 - acc: 0.8899\n",
      "Epoch 18/100\n",
      " - 0s - loss: 0.2659 - acc: 0.8905\n",
      "Epoch 19/100\n",
      " - 0s - loss: 0.2644 - acc: 0.8920\n",
      "Epoch 20/100\n",
      " - 0s - loss: 0.2635 - acc: 0.8925\n",
      "Epoch 21/100\n",
      " - 0s - loss: 0.2614 - acc: 0.8945\n",
      "Epoch 22/100\n",
      " - 0s - loss: 0.2609 - acc: 0.8908\n",
      "Epoch 23/100\n",
      " - 0s - loss: 0.2593 - acc: 0.8933\n",
      "Epoch 24/100\n",
      " - 0s - loss: 0.2584 - acc: 0.8934\n",
      "Epoch 25/100\n",
      " - 0s - loss: 0.2574 - acc: 0.8943\n",
      "Epoch 26/100\n",
      " - 0s - loss: 0.2562 - acc: 0.8934\n",
      "Epoch 27/100\n",
      " - 0s - loss: 0.2557 - acc: 0.8949\n",
      "Epoch 28/100\n",
      " - 0s - loss: 0.2549 - acc: 0.8943\n",
      "Epoch 29/100\n",
      " - 0s - loss: 0.2539 - acc: 0.8949\n",
      "Epoch 30/100\n",
      " - 0s - loss: 0.2530 - acc: 0.8942\n",
      "Epoch 31/100\n",
      " - 0s - loss: 0.2522 - acc: 0.8955\n",
      "Epoch 32/100\n",
      " - 0s - loss: 0.2511 - acc: 0.8992\n",
      "Epoch 33/100\n",
      " - 0s - loss: 0.2504 - acc: 0.8952\n",
      "Epoch 34/100\n",
      " - 0s - loss: 0.2500 - acc: 0.8962\n",
      "Epoch 35/100\n",
      " - 0s - loss: 0.2488 - acc: 0.8963\n",
      "Epoch 36/100\n",
      " - 0s - loss: 0.2484 - acc: 0.8969\n",
      "Epoch 37/100\n",
      " - 0s - loss: 0.2474 - acc: 0.8971\n",
      "Epoch 38/100\n",
      " - 0s - loss: 0.2473 - acc: 0.8969\n",
      "Epoch 39/100\n",
      " - 0s - loss: 0.2465 - acc: 0.8972\n",
      "Epoch 40/100\n",
      " - 0s - loss: 0.2462 - acc: 0.8991\n",
      "Epoch 41/100\n",
      " - 0s - loss: 0.2448 - acc: 0.8975\n",
      "Epoch 42/100\n",
      " - 0s - loss: 0.2446 - acc: 0.8978\n",
      "Epoch 43/100\n",
      " - 0s - loss: 0.2445 - acc: 0.8980\n",
      "Epoch 44/100\n",
      " - 0s - loss: 0.2440 - acc: 0.8980\n",
      "Epoch 45/100\n",
      " - 0s - loss: 0.2430 - acc: 0.8963\n",
      "Epoch 46/100\n",
      " - 0s - loss: 0.2423 - acc: 0.8980\n",
      "Epoch 47/100\n",
      " - 0s - loss: 0.2422 - acc: 0.8995\n",
      "Epoch 48/100\n",
      " - 0s - loss: 0.2409 - acc: 0.9000\n",
      "Epoch 49/100\n",
      " - 0s - loss: 0.2409 - acc: 0.8998\n",
      "Epoch 50/100\n",
      " - 0s - loss: 0.2405 - acc: 0.8977\n",
      "Epoch 51/100\n",
      " - 0s - loss: 0.2397 - acc: 0.9004\n",
      "Epoch 52/100\n",
      " - 0s - loss: 0.2394 - acc: 0.9006\n",
      "Epoch 53/100\n",
      " - 0s - loss: 0.2390 - acc: 0.9004\n",
      "Epoch 54/100\n",
      " - 0s - loss: 0.2383 - acc: 0.8989\n",
      "Epoch 55/100\n",
      " - 0s - loss: 0.2384 - acc: 0.9003\n",
      "Epoch 56/100\n",
      " - 0s - loss: 0.2383 - acc: 0.8986\n",
      "Epoch 57/100\n",
      " - 0s - loss: 0.2378 - acc: 0.9012\n",
      "Epoch 58/100\n",
      " - 0s - loss: 0.2375 - acc: 0.9003\n",
      "Epoch 59/100\n",
      " - 0s - loss: 0.2380 - acc: 0.9006\n",
      "Epoch 60/100\n",
      " - 0s - loss: 0.2368 - acc: 0.8987\n",
      "Epoch 61/100\n",
      " - 0s - loss: 0.2365 - acc: 0.9006\n",
      "Epoch 62/100\n",
      " - 0s - loss: 0.2363 - acc: 0.9004\n",
      "Epoch 63/100\n",
      " - 0s - loss: 0.2359 - acc: 0.9000\n",
      "Epoch 64/100\n",
      " - 0s - loss: 0.2364 - acc: 0.9000\n",
      "Epoch 65/100\n",
      " - 0s - loss: 0.2356 - acc: 0.8991\n",
      "Epoch 66/100\n",
      " - 0s - loss: 0.2352 - acc: 0.9000\n",
      "Epoch 67/100\n",
      " - 0s - loss: 0.2348 - acc: 0.9004\n",
      "Epoch 68/100\n",
      " - 0s - loss: 0.2349 - acc: 0.9003\n",
      "Epoch 69/100\n",
      " - 0s - loss: 0.2352 - acc: 0.9001\n",
      "Epoch 70/100\n",
      " - 0s - loss: 0.2347 - acc: 0.8995\n",
      "Epoch 71/100\n",
      " - 0s - loss: 0.2341 - acc: 0.9006\n",
      "Epoch 72/100\n",
      " - 0s - loss: 0.2343 - acc: 0.8989\n",
      "Epoch 73/100\n",
      " - 0s - loss: 0.2340 - acc: 0.8989\n",
      "Epoch 74/100\n",
      " - 0s - loss: 0.2341 - acc: 0.8992\n",
      "Epoch 75/100\n",
      " - 0s - loss: 0.2335 - acc: 0.9000\n",
      "Epoch 76/100\n",
      " - 0s - loss: 0.2334 - acc: 0.9016\n",
      "Epoch 77/100\n",
      " - 0s - loss: 0.2330 - acc: 0.9003\n",
      "Epoch 78/100\n",
      " - 0s - loss: 0.2331 - acc: 0.9003\n",
      "Epoch 79/100\n",
      " - 0s - loss: 0.2334 - acc: 0.8991\n",
      "Epoch 80/100\n",
      " - 0s - loss: 0.2339 - acc: 0.9000\n",
      "Epoch 81/100\n",
      " - 0s - loss: 0.2326 - acc: 0.8994\n",
      "Epoch 82/100\n",
      " - 0s - loss: 0.2325 - acc: 0.9007\n",
      "Epoch 83/100\n",
      " - 0s - loss: 0.2321 - acc: 0.9013\n",
      "Epoch 84/100\n",
      " - 0s - loss: 0.2321 - acc: 0.9013\n",
      "Epoch 85/100\n",
      " - 0s - loss: 0.2320 - acc: 0.9006\n",
      "Epoch 86/100\n",
      " - 0s - loss: 0.2319 - acc: 0.9003\n",
      "Epoch 87/100\n",
      " - 0s - loss: 0.2316 - acc: 0.8980\n",
      "Epoch 88/100\n",
      " - 0s - loss: 0.2316 - acc: 0.8989\n",
      "Epoch 89/100\n",
      " - 0s - loss: 0.2311 - acc: 0.9010\n",
      "Epoch 90/100\n",
      " - 0s - loss: 0.2310 - acc: 0.8997\n",
      "Epoch 91/100\n",
      " - 0s - loss: 0.2307 - acc: 0.9001\n",
      "Epoch 92/100\n",
      " - 0s - loss: 0.2312 - acc: 0.8998\n",
      "Epoch 93/100\n",
      " - 0s - loss: 0.2311 - acc: 0.9023\n",
      "Epoch 94/100\n",
      " - 0s - loss: 0.2308 - acc: 0.9021\n",
      "Epoch 95/100\n",
      " - 0s - loss: 0.2300 - acc: 0.9003\n",
      "Epoch 96/100\n",
      " - 0s - loss: 0.2307 - acc: 0.9004\n",
      "Epoch 97/100\n",
      " - 0s - loss: 0.2298 - acc: 0.9015\n",
      "Epoch 98/100\n",
      " - 0s - loss: 0.2296 - acc: 0.9015\n",
      "Epoch 99/100\n",
      " - 0s - loss: 0.2292 - acc: 0.9021\n",
      "Epoch 100/100\n",
      " - 0s - loss: 0.2291 - acc: 0.9023\n"
     ]
    },
    {
     "data": {
      "text/plain": [
       "<tensorflow.python.keras.callbacks.History at 0x239a4db6cc0>"
      ]
     },
     "execution_count": 88,
     "metadata": {},
     "output_type": "execute_result"
    }
   ],
   "source": [
    "# Fit the model to the training data\n",
    "model.fit(\n",
    "    X_train_scaled,\n",
    "    y_train_categorical,\n",
    "    epochs=100,\n",
    "    shuffle=True,\n",
    "    verbose=2\n",
    ")"
   ]
  },
  {
   "cell_type": "code",
   "execution_count": 89,
   "metadata": {},
   "outputs": [
    {
     "name": "stdout",
     "output_type": "stream",
     "text": [
      " - 0s - loss: 0.2843 - acc: 0.8916\n",
      "Normal Neural Network - Loss: 0.28432766849146124, Accuracy: 0.8915827870368958\n"
     ]
    }
   ],
   "source": [
    "model_loss, model_accuracy = model.evaluate(\n",
    "    X_test_scaled, y_test_categorical, verbose=2)\n",
    "print(\n",
    "    f\"Normal Neural Network - Loss: {model_loss}, Accuracy: {model_accuracy}\")"
   ]
  },
  {
   "cell_type": "markdown",
   "metadata": {},
   "source": [
    "# Deep Learning"
   ]
  },
  {
   "cell_type": "code",
   "execution_count": 98,
   "metadata": {},
   "outputs": [],
   "source": [
    "deep_model = Sequential()\n",
    "deep_model.add(Dense(units=12, activation='relu', input_dim=40))\n",
    "deep_model.add(Dense(units=12, activation='tanh'))\n",
    "deep_model.add(Dense(units=3, activation='softmax'))"
   ]
  },
  {
   "cell_type": "code",
   "execution_count": 99,
   "metadata": {},
   "outputs": [],
   "source": [
    "# Compile the model\n",
    "deep_model.compile(optimizer='adam',\n",
    "              loss='categorical_crossentropy',\n",
    "              metrics=['accuracy'])"
   ]
  },
  {
   "cell_type": "code",
   "execution_count": 100,
   "metadata": {},
   "outputs": [
    {
     "name": "stdout",
     "output_type": "stream",
     "text": [
      "Epoch 1/500\n",
      " - 1s - loss: 0.7717 - acc: 0.6317\n",
      "Epoch 2/500\n",
      " - 0s - loss: 0.4189 - acc: 0.8182\n",
      "Epoch 3/500\n",
      " - 0s - loss: 0.3443 - acc: 0.8542\n",
      "Epoch 4/500\n",
      " - 0s - loss: 0.3128 - acc: 0.8649\n",
      "Epoch 5/500\n",
      " - 0s - loss: 0.2943 - acc: 0.8742\n",
      "Epoch 6/500\n",
      " - 0s - loss: 0.2834 - acc: 0.8811\n",
      "Epoch 7/500\n",
      " - 0s - loss: 0.2763 - acc: 0.8847\n",
      "Epoch 8/500\n",
      " - 0s - loss: 0.2704 - acc: 0.8873\n",
      "Epoch 9/500\n",
      " - 0s - loss: 0.2657 - acc: 0.8881\n",
      "Epoch 10/500\n",
      " - 0s - loss: 0.2617 - acc: 0.8913\n",
      "Epoch 11/500\n",
      " - 0s - loss: 0.2585 - acc: 0.8902\n",
      "Epoch 12/500\n",
      " - 0s - loss: 0.2557 - acc: 0.8930\n",
      "Epoch 13/500\n",
      " - 0s - loss: 0.2525 - acc: 0.8959\n",
      "Epoch 14/500\n",
      " - 0s - loss: 0.2503 - acc: 0.8962\n",
      "Epoch 15/500\n",
      " - 0s - loss: 0.2476 - acc: 0.8966\n",
      "Epoch 16/500\n",
      " - 0s - loss: 0.2456 - acc: 0.8978\n",
      "Epoch 17/500\n",
      " - 0s - loss: 0.2428 - acc: 0.8997\n",
      "Epoch 18/500\n",
      " - 0s - loss: 0.2409 - acc: 0.9018\n",
      "Epoch 19/500\n",
      " - 0s - loss: 0.2402 - acc: 0.9007\n",
      "Epoch 20/500\n",
      " - 0s - loss: 0.2375 - acc: 0.9039\n",
      "Epoch 21/500\n",
      " - 0s - loss: 0.2360 - acc: 0.9029\n",
      "Epoch 22/500\n",
      " - 0s - loss: 0.2360 - acc: 0.9012\n",
      "Epoch 23/500\n",
      " - 0s - loss: 0.2342 - acc: 0.9026\n",
      "Epoch 24/500\n",
      " - 0s - loss: 0.2330 - acc: 0.9032\n",
      "Epoch 25/500\n",
      " - 0s - loss: 0.2315 - acc: 0.9055\n",
      "Epoch 26/500\n",
      " - 0s - loss: 0.2300 - acc: 0.9036\n",
      "Epoch 27/500\n",
      " - 0s - loss: 0.2290 - acc: 0.9036\n",
      "Epoch 28/500\n",
      " - 0s - loss: 0.2269 - acc: 0.9052\n",
      "Epoch 29/500\n",
      " - 0s - loss: 0.2264 - acc: 0.9061\n",
      "Epoch 30/500\n",
      " - 0s - loss: 0.2256 - acc: 0.9048\n",
      "Epoch 31/500\n",
      " - 0s - loss: 0.2253 - acc: 0.9032\n",
      "Epoch 32/500\n",
      " - 0s - loss: 0.2239 - acc: 0.9068\n",
      "Epoch 33/500\n",
      " - 0s - loss: 0.2225 - acc: 0.9065\n",
      "Epoch 34/500\n",
      " - 0s - loss: 0.2220 - acc: 0.9077\n",
      "Epoch 35/500\n",
      " - 0s - loss: 0.2220 - acc: 0.9068\n",
      "Epoch 36/500\n",
      " - 0s - loss: 0.2207 - acc: 0.9087\n",
      "Epoch 37/500\n",
      " - 0s - loss: 0.2199 - acc: 0.9084\n",
      "Epoch 38/500\n",
      " - 0s - loss: 0.2197 - acc: 0.9070\n",
      "Epoch 39/500\n",
      " - 0s - loss: 0.2195 - acc: 0.9102\n",
      "Epoch 40/500\n",
      " - 0s - loss: 0.2171 - acc: 0.9116\n",
      "Epoch 41/500\n",
      " - 0s - loss: 0.2159 - acc: 0.9090\n",
      "Epoch 42/500\n",
      " - 0s - loss: 0.2152 - acc: 0.9099\n",
      "Epoch 43/500\n",
      " - 0s - loss: 0.2151 - acc: 0.9099\n",
      "Epoch 44/500\n",
      " - 0s - loss: 0.2148 - acc: 0.9071\n",
      "Epoch 45/500\n",
      " - 0s - loss: 0.2138 - acc: 0.9106\n",
      "Epoch 46/500\n",
      " - 0s - loss: 0.2124 - acc: 0.9099\n",
      "Epoch 47/500\n",
      " - 0s - loss: 0.2135 - acc: 0.9093\n",
      "Epoch 48/500\n",
      " - 0s - loss: 0.2115 - acc: 0.9091\n",
      "Epoch 49/500\n",
      " - 0s - loss: 0.2134 - acc: 0.9081\n",
      "Epoch 50/500\n",
      " - 0s - loss: 0.2119 - acc: 0.9100\n",
      "Epoch 51/500\n",
      " - 0s - loss: 0.2109 - acc: 0.9087\n",
      "Epoch 52/500\n",
      " - 0s - loss: 0.2104 - acc: 0.9106\n",
      "Epoch 53/500\n",
      " - 0s - loss: 0.2105 - acc: 0.9100\n",
      "Epoch 54/500\n",
      " - 0s - loss: 0.2092 - acc: 0.9105\n",
      "Epoch 55/500\n",
      " - 0s - loss: 0.2097 - acc: 0.9105\n",
      "Epoch 56/500\n",
      " - 0s - loss: 0.2082 - acc: 0.9105\n",
      "Epoch 57/500\n",
      " - 0s - loss: 0.2089 - acc: 0.9106\n",
      "Epoch 58/500\n",
      " - 0s - loss: 0.2083 - acc: 0.9108\n",
      "Epoch 59/500\n",
      " - 0s - loss: 0.2071 - acc: 0.9122\n",
      "Epoch 60/500\n",
      " - 0s - loss: 0.2076 - acc: 0.9109\n",
      "Epoch 61/500\n",
      " - 0s - loss: 0.2063 - acc: 0.9119\n",
      "Epoch 62/500\n",
      " - 0s - loss: 0.2059 - acc: 0.9094\n",
      "Epoch 63/500\n",
      " - 0s - loss: 0.2056 - acc: 0.9116\n",
      "Epoch 64/500\n",
      " - 0s - loss: 0.2050 - acc: 0.9128\n",
      "Epoch 65/500\n",
      " - 0s - loss: 0.2048 - acc: 0.9109\n",
      "Epoch 66/500\n",
      " - 0s - loss: 0.2045 - acc: 0.9116\n",
      "Epoch 67/500\n",
      " - 0s - loss: 0.2033 - acc: 0.9137\n",
      "Epoch 68/500\n",
      " - 0s - loss: 0.2038 - acc: 0.9132\n",
      "Epoch 69/500\n",
      " - 0s - loss: 0.2034 - acc: 0.9123\n",
      "Epoch 70/500\n",
      " - 0s - loss: 0.2036 - acc: 0.9109\n",
      "Epoch 71/500\n",
      " - 0s - loss: 0.2027 - acc: 0.9123\n",
      "Epoch 72/500\n",
      " - 0s - loss: 0.2028 - acc: 0.9132\n",
      "Epoch 73/500\n",
      " - 0s - loss: 0.2027 - acc: 0.9129\n",
      "Epoch 74/500\n",
      " - 0s - loss: 0.2010 - acc: 0.9138\n",
      "Epoch 75/500\n",
      " - 0s - loss: 0.2020 - acc: 0.9125\n",
      "Epoch 76/500\n",
      " - 0s - loss: 0.2013 - acc: 0.9129\n",
      "Epoch 77/500\n",
      " - 0s - loss: 0.2013 - acc: 0.9126\n",
      "Epoch 78/500\n",
      " - 0s - loss: 0.2010 - acc: 0.9129\n",
      "Epoch 79/500\n",
      " - 0s - loss: 0.2011 - acc: 0.9116\n",
      "Epoch 80/500\n",
      " - 0s - loss: 0.2010 - acc: 0.9134\n",
      "Epoch 81/500\n",
      " - 0s - loss: 0.2008 - acc: 0.9122\n",
      "Epoch 82/500\n",
      " - 0s - loss: 0.2010 - acc: 0.9143\n",
      "Epoch 83/500\n",
      " - 0s - loss: 0.2000 - acc: 0.9135\n",
      "Epoch 84/500\n",
      " - 0s - loss: 0.2001 - acc: 0.9166\n",
      "Epoch 85/500\n",
      " - 0s - loss: 0.1996 - acc: 0.9120\n",
      "Epoch 86/500\n",
      " - 0s - loss: 0.1993 - acc: 0.9132\n",
      "Epoch 87/500\n",
      " - 0s - loss: 0.1989 - acc: 0.9128\n",
      "Epoch 88/500\n",
      " - 0s - loss: 0.2011 - acc: 0.9113\n",
      "Epoch 89/500\n",
      " - 0s - loss: 0.1990 - acc: 0.9131\n",
      "Epoch 90/500\n",
      " - 0s - loss: 0.1975 - acc: 0.9154\n",
      "Epoch 91/500\n",
      " - 0s - loss: 0.1976 - acc: 0.9157\n",
      "Epoch 92/500\n",
      " - 0s - loss: 0.1970 - acc: 0.9151\n",
      "Epoch 93/500\n",
      " - 0s - loss: 0.1979 - acc: 0.9154\n",
      "Epoch 94/500\n",
      " - 0s - loss: 0.1975 - acc: 0.9146\n",
      "Epoch 95/500\n",
      " - 0s - loss: 0.1976 - acc: 0.9149\n",
      "Epoch 96/500\n",
      " - 0s - loss: 0.1961 - acc: 0.9135\n",
      "Epoch 97/500\n",
      " - 0s - loss: 0.1961 - acc: 0.9131\n",
      "Epoch 98/500\n",
      " - 0s - loss: 0.1980 - acc: 0.9120\n",
      "Epoch 99/500\n",
      " - 0s - loss: 0.1949 - acc: 0.9155\n",
      "Epoch 100/500\n",
      " - 0s - loss: 0.1964 - acc: 0.9157\n",
      "Epoch 101/500\n",
      " - 0s - loss: 0.1978 - acc: 0.9154\n",
      "Epoch 102/500\n",
      " - 0s - loss: 0.1953 - acc: 0.9169\n",
      "Epoch 103/500\n",
      " - 0s - loss: 0.1954 - acc: 0.9142\n",
      "Epoch 104/500\n",
      " - 0s - loss: 0.1953 - acc: 0.9158\n",
      "Epoch 105/500\n",
      " - 0s - loss: 0.1943 - acc: 0.9164\n",
      "Epoch 106/500\n",
      " - 0s - loss: 0.1945 - acc: 0.9148\n",
      "Epoch 107/500\n",
      " - 0s - loss: 0.1941 - acc: 0.9170\n",
      "Epoch 108/500\n",
      " - 0s - loss: 0.1944 - acc: 0.9152\n",
      "Epoch 109/500\n",
      " - 0s - loss: 0.1946 - acc: 0.9172\n",
      "Epoch 110/500\n",
      " - 0s - loss: 0.1933 - acc: 0.9160\n",
      "Epoch 111/500\n",
      " - 0s - loss: 0.1936 - acc: 0.9161\n",
      "Epoch 112/500\n",
      " - 0s - loss: 0.1934 - acc: 0.9175\n",
      "Epoch 113/500\n",
      " - 0s - loss: 0.1935 - acc: 0.9177\n",
      "Epoch 114/500\n",
      " - 0s - loss: 0.1930 - acc: 0.9170\n",
      "Epoch 115/500\n",
      " - 0s - loss: 0.1927 - acc: 0.9158\n",
      "Epoch 116/500\n",
      " - 0s - loss: 0.1923 - acc: 0.9160\n",
      "Epoch 117/500\n",
      " - 0s - loss: 0.1933 - acc: 0.9145\n",
      "Epoch 118/500\n",
      " - 0s - loss: 0.1940 - acc: 0.9172\n",
      "Epoch 119/500\n",
      " - 0s - loss: 0.1927 - acc: 0.9172\n",
      "Epoch 120/500\n",
      " - 0s - loss: 0.1921 - acc: 0.9174\n",
      "Epoch 121/500\n",
      " - 0s - loss: 0.1931 - acc: 0.9175\n",
      "Epoch 122/500\n",
      " - 0s - loss: 0.1920 - acc: 0.9192\n",
      "Epoch 123/500\n",
      " - 0s - loss: 0.1920 - acc: 0.9187\n",
      "Epoch 124/500\n",
      " - 0s - loss: 0.1932 - acc: 0.9167\n",
      "Epoch 125/500\n",
      " - 0s - loss: 0.1924 - acc: 0.9160\n",
      "Epoch 126/500\n",
      " - 0s - loss: 0.1910 - acc: 0.9175\n",
      "Epoch 127/500\n",
      " - 0s - loss: 0.1907 - acc: 0.9190\n",
      "Epoch 128/500\n",
      " - 0s - loss: 0.1910 - acc: 0.9177\n",
      "Epoch 129/500\n",
      " - 0s - loss: 0.1908 - acc: 0.9167\n",
      "Epoch 130/500\n",
      " - 0s - loss: 0.1911 - acc: 0.9196\n",
      "Epoch 131/500\n",
      " - 0s - loss: 0.1910 - acc: 0.9199\n",
      "Epoch 132/500\n",
      " - 0s - loss: 0.1923 - acc: 0.9172\n",
      "Epoch 133/500\n",
      " - 0s - loss: 0.1899 - acc: 0.9183\n",
      "Epoch 134/500\n",
      " - 0s - loss: 0.1906 - acc: 0.9177\n",
      "Epoch 135/500\n",
      " - 0s - loss: 0.1902 - acc: 0.9183\n",
      "Epoch 136/500\n",
      " - 0s - loss: 0.1904 - acc: 0.9181\n",
      "Epoch 137/500\n",
      " - 0s - loss: 0.1899 - acc: 0.9203\n",
      "Epoch 138/500\n",
      " - 0s - loss: 0.1905 - acc: 0.9192\n",
      "Epoch 139/500\n",
      " - 0s - loss: 0.1900 - acc: 0.9198\n",
      "Epoch 140/500\n",
      " - 0s - loss: 0.1902 - acc: 0.9221\n",
      "Epoch 141/500\n",
      " - 0s - loss: 0.1882 - acc: 0.9172\n",
      "Epoch 142/500\n",
      " - 0s - loss: 0.1888 - acc: 0.9184\n",
      "Epoch 143/500\n",
      " - 0s - loss: 0.1896 - acc: 0.9193\n",
      "Epoch 144/500\n",
      " - 0s - loss: 0.1877 - acc: 0.9201\n",
      "Epoch 145/500\n",
      " - 0s - loss: 0.1897 - acc: 0.9198\n",
      "Epoch 146/500\n",
      " - 0s - loss: 0.1889 - acc: 0.9180\n",
      "Epoch 147/500\n",
      " - 0s - loss: 0.1890 - acc: 0.9186\n",
      "Epoch 148/500\n",
      " - 0s - loss: 0.1885 - acc: 0.9196\n",
      "Epoch 149/500\n",
      " - 0s - loss: 0.1886 - acc: 0.9189\n",
      "Epoch 150/500\n",
      " - 0s - loss: 0.1881 - acc: 0.9186\n",
      "Epoch 151/500\n",
      " - 0s - loss: 0.1875 - acc: 0.9181\n",
      "Epoch 152/500\n",
      " - 0s - loss: 0.1872 - acc: 0.9212\n",
      "Epoch 153/500\n",
      " - 0s - loss: 0.1871 - acc: 0.9199\n",
      "Epoch 154/500\n",
      " - 0s - loss: 0.1866 - acc: 0.9213\n",
      "Epoch 155/500\n",
      " - 0s - loss: 0.1877 - acc: 0.9181\n",
      "Epoch 156/500\n",
      " - 0s - loss: 0.1879 - acc: 0.9183\n",
      "Epoch 157/500\n",
      " - 0s - loss: 0.1888 - acc: 0.9212\n",
      "Epoch 158/500\n",
      " - 0s - loss: 0.1884 - acc: 0.9195\n",
      "Epoch 159/500\n",
      " - 0s - loss: 0.1874 - acc: 0.9195\n",
      "Epoch 160/500\n",
      " - 0s - loss: 0.1867 - acc: 0.9207\n",
      "Epoch 161/500\n",
      " - 0s - loss: 0.1861 - acc: 0.9213\n",
      "Epoch 162/500\n",
      " - 0s - loss: 0.1871 - acc: 0.9177\n",
      "Epoch 163/500\n",
      " - 0s - loss: 0.1858 - acc: 0.9201\n",
      "Epoch 164/500\n",
      " - 0s - loss: 0.1864 - acc: 0.9203\n",
      "Epoch 165/500\n",
      " - 0s - loss: 0.1861 - acc: 0.9199\n",
      "Epoch 166/500\n",
      " - 0s - loss: 0.1857 - acc: 0.9206\n",
      "Epoch 167/500\n",
      " - 0s - loss: 0.1849 - acc: 0.9228\n",
      "Epoch 168/500\n",
      " - 0s - loss: 0.1862 - acc: 0.9184\n",
      "Epoch 169/500\n",
      " - 0s - loss: 0.1859 - acc: 0.9198\n",
      "Epoch 170/500\n",
      " - 0s - loss: 0.1864 - acc: 0.9180\n"
     ]
    },
    {
     "name": "stdout",
     "output_type": "stream",
     "text": [
      "Epoch 171/500\n",
      " - 0s - loss: 0.1865 - acc: 0.9207\n",
      "Epoch 172/500\n",
      " - 0s - loss: 0.1859 - acc: 0.9207\n",
      "Epoch 173/500\n",
      " - 0s - loss: 0.1854 - acc: 0.9201\n",
      "Epoch 174/500\n",
      " - 0s - loss: 0.1866 - acc: 0.9201\n",
      "Epoch 175/500\n",
      " - 0s - loss: 0.1858 - acc: 0.9199\n",
      "Epoch 176/500\n",
      " - 0s - loss: 0.1859 - acc: 0.9196\n",
      "Epoch 177/500\n",
      " - 0s - loss: 0.1855 - acc: 0.9219\n",
      "Epoch 178/500\n",
      " - 0s - loss: 0.1852 - acc: 0.9199\n",
      "Epoch 179/500\n",
      " - 0s - loss: 0.1841 - acc: 0.9198\n",
      "Epoch 180/500\n",
      " - 0s - loss: 0.1849 - acc: 0.9227\n",
      "Epoch 181/500\n",
      " - 0s - loss: 0.1856 - acc: 0.9195\n",
      "Epoch 182/500\n",
      " - 0s - loss: 0.1856 - acc: 0.9210\n",
      "Epoch 183/500\n",
      " - 0s - loss: 0.1848 - acc: 0.9215\n",
      "Epoch 184/500\n",
      " - 0s - loss: 0.1845 - acc: 0.9207\n",
      "Epoch 185/500\n",
      " - 0s - loss: 0.1844 - acc: 0.9216\n",
      "Epoch 186/500\n",
      " - 0s - loss: 0.1843 - acc: 0.9209\n",
      "Epoch 187/500\n",
      " - 0s - loss: 0.1850 - acc: 0.9199\n",
      "Epoch 188/500\n",
      " - 0s - loss: 0.1839 - acc: 0.9221\n",
      "Epoch 189/500\n",
      " - 0s - loss: 0.1839 - acc: 0.9196\n",
      "Epoch 190/500\n",
      " - 0s - loss: 0.1834 - acc: 0.9213\n",
      "Epoch 191/500\n",
      " - 0s - loss: 0.1826 - acc: 0.9222\n",
      "Epoch 192/500\n",
      " - 0s - loss: 0.1848 - acc: 0.9219\n",
      "Epoch 193/500\n",
      " - 0s - loss: 0.1830 - acc: 0.9224\n",
      "Epoch 194/500\n",
      " - 0s - loss: 0.1843 - acc: 0.9224\n",
      "Epoch 195/500\n",
      " - 0s - loss: 0.1846 - acc: 0.9221\n",
      "Epoch 196/500\n",
      " - 0s - loss: 0.1829 - acc: 0.9207\n",
      "Epoch 197/500\n",
      " - 0s - loss: 0.1830 - acc: 0.9212\n",
      "Epoch 198/500\n",
      " - 0s - loss: 0.1830 - acc: 0.9203\n",
      "Epoch 199/500\n",
      " - 0s - loss: 0.1836 - acc: 0.9212\n",
      "Epoch 200/500\n",
      " - 0s - loss: 0.1824 - acc: 0.9225\n",
      "Epoch 201/500\n",
      " - 0s - loss: 0.1832 - acc: 0.9212\n",
      "Epoch 202/500\n",
      " - 0s - loss: 0.1833 - acc: 0.9204\n",
      "Epoch 203/500\n",
      " - 0s - loss: 0.1836 - acc: 0.9219\n",
      "Epoch 204/500\n",
      " - 0s - loss: 0.1823 - acc: 0.9218\n",
      "Epoch 205/500\n",
      " - 0s - loss: 0.1823 - acc: 0.9239\n",
      "Epoch 206/500\n",
      " - 0s - loss: 0.1812 - acc: 0.9235\n",
      "Epoch 207/500\n",
      " - 0s - loss: 0.1820 - acc: 0.9216\n",
      "Epoch 208/500\n",
      " - 0s - loss: 0.1815 - acc: 0.9238\n",
      "Epoch 209/500\n",
      " - 0s - loss: 0.1810 - acc: 0.9230\n",
      "Epoch 210/500\n",
      " - 0s - loss: 0.1829 - acc: 0.9231\n",
      "Epoch 211/500\n",
      " - 0s - loss: 0.1821 - acc: 0.9215\n",
      "Epoch 212/500\n",
      " - 0s - loss: 0.1821 - acc: 0.9204\n",
      "Epoch 213/500\n",
      " - 0s - loss: 0.1813 - acc: 0.9241\n",
      "Epoch 214/500\n",
      " - 0s - loss: 0.1813 - acc: 0.9239\n",
      "Epoch 215/500\n",
      " - 0s - loss: 0.1821 - acc: 0.9212\n",
      "Epoch 216/500\n",
      " - 0s - loss: 0.1805 - acc: 0.9206\n",
      "Epoch 217/500\n",
      " - 0s - loss: 0.1820 - acc: 0.9228\n",
      "Epoch 218/500\n",
      " - 0s - loss: 0.1820 - acc: 0.9248\n",
      "Epoch 219/500\n",
      " - 0s - loss: 0.1814 - acc: 0.9228\n",
      "Epoch 220/500\n",
      " - 0s - loss: 0.1801 - acc: 0.9219\n",
      "Epoch 221/500\n",
      " - 0s - loss: 0.1817 - acc: 0.9224\n",
      "Epoch 222/500\n",
      " - 0s - loss: 0.1801 - acc: 0.9238\n",
      "Epoch 223/500\n",
      " - 0s - loss: 0.1806 - acc: 0.9224\n",
      "Epoch 224/500\n",
      " - 0s - loss: 0.1799 - acc: 0.9239\n",
      "Epoch 225/500\n",
      " - 0s - loss: 0.1803 - acc: 0.9242\n",
      "Epoch 226/500\n",
      " - 0s - loss: 0.1807 - acc: 0.9233\n",
      "Epoch 227/500\n",
      " - 0s - loss: 0.1807 - acc: 0.9218\n",
      "Epoch 228/500\n",
      " - 0s - loss: 0.1805 - acc: 0.9238\n",
      "Epoch 229/500\n",
      " - 0s - loss: 0.1805 - acc: 0.9219\n",
      "Epoch 230/500\n",
      " - 0s - loss: 0.1788 - acc: 0.9224\n",
      "Epoch 231/500\n",
      " - 0s - loss: 0.1798 - acc: 0.9227\n",
      "Epoch 232/500\n",
      " - 0s - loss: 0.1798 - acc: 0.9233\n",
      "Epoch 233/500\n",
      " - 0s - loss: 0.1819 - acc: 0.9207\n",
      "Epoch 234/500\n",
      " - 0s - loss: 0.1787 - acc: 0.9228\n",
      "Epoch 235/500\n",
      " - 0s - loss: 0.1796 - acc: 0.9236\n",
      "Epoch 236/500\n",
      " - 0s - loss: 0.1797 - acc: 0.9225\n",
      "Epoch 237/500\n",
      " - 0s - loss: 0.1789 - acc: 0.9238\n",
      "Epoch 238/500\n",
      " - 0s - loss: 0.1802 - acc: 0.9230\n",
      "Epoch 239/500\n",
      " - 0s - loss: 0.1798 - acc: 0.9233\n",
      "Epoch 240/500\n",
      " - 0s - loss: 0.1781 - acc: 0.9241\n",
      "Epoch 241/500\n",
      " - 0s - loss: 0.1793 - acc: 0.9239\n",
      "Epoch 242/500\n",
      " - 0s - loss: 0.1791 - acc: 0.9227\n",
      "Epoch 243/500\n",
      " - 0s - loss: 0.1788 - acc: 0.9221\n",
      "Epoch 244/500\n",
      " - 0s - loss: 0.1777 - acc: 0.9242\n",
      "Epoch 245/500\n",
      " - 0s - loss: 0.1778 - acc: 0.9241\n",
      "Epoch 246/500\n",
      " - 0s - loss: 0.1780 - acc: 0.9228\n",
      "Epoch 247/500\n",
      " - 0s - loss: 0.1787 - acc: 0.9247\n",
      "Epoch 248/500\n",
      " - 0s - loss: 0.1771 - acc: 0.9253\n",
      "Epoch 249/500\n",
      " - 0s - loss: 0.1782 - acc: 0.9239\n",
      "Epoch 250/500\n",
      " - 0s - loss: 0.1773 - acc: 0.9228\n",
      "Epoch 251/500\n",
      " - 0s - loss: 0.1780 - acc: 0.9259\n",
      "Epoch 252/500\n",
      " - 0s - loss: 0.1780 - acc: 0.9251\n",
      "Epoch 253/500\n",
      " - 0s - loss: 0.1772 - acc: 0.9238\n",
      "Epoch 254/500\n",
      " - 0s - loss: 0.1771 - acc: 0.9253\n",
      "Epoch 255/500\n",
      " - 0s - loss: 0.1769 - acc: 0.9238\n",
      "Epoch 256/500\n",
      " - 0s - loss: 0.1774 - acc: 0.9265\n",
      "Epoch 257/500\n",
      " - 0s - loss: 0.1772 - acc: 0.9273\n",
      "Epoch 258/500\n",
      " - 0s - loss: 0.1780 - acc: 0.9254\n",
      "Epoch 259/500\n",
      " - 0s - loss: 0.1772 - acc: 0.9244\n",
      "Epoch 260/500\n",
      " - 0s - loss: 0.1769 - acc: 0.9251\n",
      "Epoch 261/500\n",
      " - 0s - loss: 0.1774 - acc: 0.9239\n",
      "Epoch 262/500\n",
      " - 0s - loss: 0.1759 - acc: 0.9228\n",
      "Epoch 263/500\n",
      " - 0s - loss: 0.1765 - acc: 0.9251\n",
      "Epoch 264/500\n",
      " - 0s - loss: 0.1757 - acc: 0.9259\n",
      "Epoch 265/500\n",
      " - 0s - loss: 0.1758 - acc: 0.9247\n",
      "Epoch 266/500\n",
      " - 0s - loss: 0.1750 - acc: 0.9251\n",
      "Epoch 267/500\n",
      " - 0s - loss: 0.1758 - acc: 0.9250\n",
      "Epoch 268/500\n",
      " - 0s - loss: 0.1774 - acc: 0.9221\n",
      "Epoch 269/500\n",
      " - 0s - loss: 0.1758 - acc: 0.9244\n",
      "Epoch 270/500\n",
      " - 0s - loss: 0.1756 - acc: 0.9242\n",
      "Epoch 271/500\n",
      " - 0s - loss: 0.1759 - acc: 0.9250\n",
      "Epoch 272/500\n",
      " - 0s - loss: 0.1765 - acc: 0.9248\n",
      "Epoch 273/500\n",
      " - 0s - loss: 0.1773 - acc: 0.9247\n",
      "Epoch 274/500\n",
      " - 0s - loss: 0.1764 - acc: 0.9247\n",
      "Epoch 275/500\n",
      " - 0s - loss: 0.1743 - acc: 0.9250\n",
      "Epoch 276/500\n",
      " - 0s - loss: 0.1751 - acc: 0.9228\n",
      "Epoch 277/500\n",
      " - 0s - loss: 0.1756 - acc: 0.9248\n",
      "Epoch 278/500\n",
      " - 0s - loss: 0.1755 - acc: 0.9250\n",
      "Epoch 279/500\n",
      " - 0s - loss: 0.1752 - acc: 0.9267\n",
      "Epoch 280/500\n",
      " - 0s - loss: 0.1766 - acc: 0.9247\n",
      "Epoch 281/500\n",
      " - 0s - loss: 0.1756 - acc: 0.9274\n",
      "Epoch 282/500\n",
      " - 0s - loss: 0.1749 - acc: 0.9263\n",
      "Epoch 283/500\n",
      " - 0s - loss: 0.1750 - acc: 0.9250\n",
      "Epoch 284/500\n",
      " - 0s - loss: 0.1747 - acc: 0.9253\n",
      "Epoch 285/500\n",
      " - 0s - loss: 0.1740 - acc: 0.9247\n",
      "Epoch 286/500\n",
      " - 0s - loss: 0.1744 - acc: 0.9277\n",
      "Epoch 287/500\n",
      " - 0s - loss: 0.1741 - acc: 0.9273\n",
      "Epoch 288/500\n",
      " - 0s - loss: 0.1744 - acc: 0.9253\n",
      "Epoch 289/500\n",
      " - 0s - loss: 0.1750 - acc: 0.9248\n",
      "Epoch 290/500\n",
      " - 0s - loss: 0.1745 - acc: 0.9274\n",
      "Epoch 291/500\n",
      " - 0s - loss: 0.1746 - acc: 0.9260\n",
      "Epoch 292/500\n",
      " - 0s - loss: 0.1740 - acc: 0.9241\n",
      "Epoch 293/500\n",
      " - 0s - loss: 0.1740 - acc: 0.9253\n",
      "Epoch 294/500\n",
      " - 0s - loss: 0.1747 - acc: 0.9263\n",
      "Epoch 295/500\n",
      " - 0s - loss: 0.1747 - acc: 0.9256\n",
      "Epoch 296/500\n",
      " - 0s - loss: 0.1735 - acc: 0.9253\n",
      "Epoch 297/500\n",
      " - 0s - loss: 0.1730 - acc: 0.9277\n",
      "Epoch 298/500\n",
      " - 0s - loss: 0.1732 - acc: 0.9271\n",
      "Epoch 299/500\n",
      " - 0s - loss: 0.1735 - acc: 0.9250\n",
      "Epoch 300/500\n",
      " - 0s - loss: 0.1726 - acc: 0.9262\n",
      "Epoch 301/500\n",
      " - 0s - loss: 0.1731 - acc: 0.9289\n",
      "Epoch 302/500\n",
      " - 0s - loss: 0.1735 - acc: 0.9268\n",
      "Epoch 303/500\n",
      " - 0s - loss: 0.1733 - acc: 0.9256\n",
      "Epoch 304/500\n",
      " - 0s - loss: 0.1727 - acc: 0.9263\n",
      "Epoch 305/500\n",
      " - 0s - loss: 0.1736 - acc: 0.9263\n",
      "Epoch 306/500\n",
      " - 0s - loss: 0.1725 - acc: 0.9268\n",
      "Epoch 307/500\n",
      " - 0s - loss: 0.1728 - acc: 0.9254\n",
      "Epoch 308/500\n",
      " - 0s - loss: 0.1734 - acc: 0.9245\n",
      "Epoch 309/500\n",
      " - 0s - loss: 0.1742 - acc: 0.9256\n",
      "Epoch 310/500\n",
      " - 0s - loss: 0.1720 - acc: 0.9262\n",
      "Epoch 311/500\n",
      " - 0s - loss: 0.1725 - acc: 0.9277\n",
      "Epoch 312/500\n",
      " - 0s - loss: 0.1732 - acc: 0.9260\n",
      "Epoch 313/500\n",
      " - 0s - loss: 0.1725 - acc: 0.9259\n",
      "Epoch 314/500\n",
      " - 0s - loss: 0.1718 - acc: 0.9254\n",
      "Epoch 315/500\n",
      " - 0s - loss: 0.1725 - acc: 0.9259\n",
      "Epoch 316/500\n",
      " - 0s - loss: 0.1715 - acc: 0.9267\n",
      "Epoch 317/500\n",
      " - 0s - loss: 0.1722 - acc: 0.9248\n",
      "Epoch 318/500\n",
      " - 0s - loss: 0.1714 - acc: 0.9273\n",
      "Epoch 319/500\n",
      " - 0s - loss: 0.1738 - acc: 0.9274\n",
      "Epoch 320/500\n",
      " - 0s - loss: 0.1715 - acc: 0.9242\n",
      "Epoch 321/500\n",
      " - 0s - loss: 0.1711 - acc: 0.9279\n",
      "Epoch 322/500\n",
      " - 0s - loss: 0.1729 - acc: 0.9238\n",
      "Epoch 323/500\n",
      " - 0s - loss: 0.1716 - acc: 0.9262\n",
      "Epoch 324/500\n",
      " - 0s - loss: 0.1709 - acc: 0.9256\n",
      "Epoch 325/500\n",
      " - 0s - loss: 0.1705 - acc: 0.9297\n",
      "Epoch 326/500\n",
      " - 0s - loss: 0.1711 - acc: 0.9263\n",
      "Epoch 327/500\n",
      " - 0s - loss: 0.1715 - acc: 0.9260\n",
      "Epoch 328/500\n",
      " - 0s - loss: 0.1716 - acc: 0.9283\n",
      "Epoch 329/500\n",
      " - 0s - loss: 0.1707 - acc: 0.9250\n",
      "Epoch 330/500\n",
      " - 0s - loss: 0.1698 - acc: 0.9260\n",
      "Epoch 331/500\n",
      " - 0s - loss: 0.1717 - acc: 0.9253\n",
      "Epoch 332/500\n",
      " - 0s - loss: 0.1697 - acc: 0.9288\n",
      "Epoch 333/500\n",
      " - 0s - loss: 0.1707 - acc: 0.9256\n",
      "Epoch 334/500\n",
      " - 0s - loss: 0.1701 - acc: 0.9267\n",
      "Epoch 335/500\n",
      " - 0s - loss: 0.1696 - acc: 0.9279\n",
      "Epoch 336/500\n",
      " - 0s - loss: 0.1712 - acc: 0.9276\n",
      "Epoch 337/500\n",
      " - 0s - loss: 0.1716 - acc: 0.9259\n",
      "Epoch 338/500\n"
     ]
    },
    {
     "name": "stdout",
     "output_type": "stream",
     "text": [
      " - 0s - loss: 0.1701 - acc: 0.9268\n",
      "Epoch 339/500\n",
      " - 0s - loss: 0.1713 - acc: 0.9244\n",
      "Epoch 340/500\n",
      " - 0s - loss: 0.1700 - acc: 0.9259\n",
      "Epoch 341/500\n",
      " - 0s - loss: 0.1704 - acc: 0.9276\n",
      "Epoch 342/500\n",
      " - 0s - loss: 0.1692 - acc: 0.9292\n",
      "Epoch 343/500\n",
      " - 0s - loss: 0.1693 - acc: 0.9292\n",
      "Epoch 344/500\n",
      " - 0s - loss: 0.1689 - acc: 0.9270\n",
      "Epoch 345/500\n",
      " - 0s - loss: 0.1701 - acc: 0.9270\n",
      "Epoch 346/500\n",
      " - 0s - loss: 0.1695 - acc: 0.9279\n",
      "Epoch 347/500\n",
      " - 0s - loss: 0.1691 - acc: 0.9273\n",
      "Epoch 348/500\n",
      " - 0s - loss: 0.1688 - acc: 0.9280\n",
      "Epoch 349/500\n",
      " - 0s - loss: 0.1692 - acc: 0.9259\n",
      "Epoch 350/500\n",
      " - 0s - loss: 0.1679 - acc: 0.9279\n",
      "Epoch 351/500\n",
      " - 0s - loss: 0.1688 - acc: 0.9271\n",
      "Epoch 352/500\n",
      " - 0s - loss: 0.1683 - acc: 0.9294\n",
      "Epoch 353/500\n",
      " - 0s - loss: 0.1683 - acc: 0.9267\n",
      "Epoch 354/500\n",
      " - 0s - loss: 0.1686 - acc: 0.9305\n",
      "Epoch 355/500\n",
      " - 0s - loss: 0.1683 - acc: 0.9263\n",
      "Epoch 356/500\n",
      " - 0s - loss: 0.1700 - acc: 0.9273\n",
      "Epoch 357/500\n",
      " - 0s - loss: 0.1678 - acc: 0.9283\n",
      "Epoch 358/500\n",
      " - 0s - loss: 0.1687 - acc: 0.9263\n",
      "Epoch 359/500\n",
      " - 0s - loss: 0.1678 - acc: 0.9283\n",
      "Epoch 360/500\n",
      " - 0s - loss: 0.1684 - acc: 0.9277\n",
      "Epoch 361/500\n",
      " - 0s - loss: 0.1685 - acc: 0.9274\n",
      "Epoch 362/500\n",
      " - 0s - loss: 0.1696 - acc: 0.9274\n",
      "Epoch 363/500\n",
      " - 0s - loss: 0.1687 - acc: 0.9257\n",
      "Epoch 364/500\n",
      " - 0s - loss: 0.1683 - acc: 0.9283\n",
      "Epoch 365/500\n",
      " - 0s - loss: 0.1675 - acc: 0.9291\n",
      "Epoch 366/500\n",
      " - 0s - loss: 0.1680 - acc: 0.9303\n",
      "Epoch 367/500\n",
      " - 0s - loss: 0.1673 - acc: 0.9291\n",
      "Epoch 368/500\n",
      " - 0s - loss: 0.1688 - acc: 0.9297\n",
      "Epoch 369/500\n",
      " - 0s - loss: 0.1675 - acc: 0.9289\n",
      "Epoch 370/500\n",
      " - 0s - loss: 0.1680 - acc: 0.9279\n",
      "Epoch 371/500\n",
      " - 0s - loss: 0.1663 - acc: 0.9279\n",
      "Epoch 372/500\n",
      " - 0s - loss: 0.1662 - acc: 0.9289\n",
      "Epoch 373/500\n",
      " - 0s - loss: 0.1669 - acc: 0.9297\n",
      "Epoch 374/500\n",
      " - 0s - loss: 0.1659 - acc: 0.9312\n",
      "Epoch 375/500\n",
      " - 0s - loss: 0.1659 - acc: 0.9280\n",
      "Epoch 376/500\n",
      " - 0s - loss: 0.1667 - acc: 0.9288\n",
      "Epoch 377/500\n",
      " - 0s - loss: 0.1667 - acc: 0.9291\n",
      "Epoch 378/500\n",
      " - 0s - loss: 0.1666 - acc: 0.9289\n",
      "Epoch 379/500\n",
      " - 0s - loss: 0.1656 - acc: 0.9291\n",
      "Epoch 380/500\n",
      " - 0s - loss: 0.1668 - acc: 0.9317\n",
      "Epoch 381/500\n",
      " - 0s - loss: 0.1680 - acc: 0.9288\n",
      "Epoch 382/500\n",
      " - 0s - loss: 0.1670 - acc: 0.9283\n",
      "Epoch 383/500\n",
      " - 0s - loss: 0.1669 - acc: 0.9309\n",
      "Epoch 384/500\n",
      " - 0s - loss: 0.1664 - acc: 0.9279\n",
      "Epoch 385/500\n",
      " - 0s - loss: 0.1660 - acc: 0.9285\n",
      "Epoch 386/500\n",
      " - 0s - loss: 0.1681 - acc: 0.9279\n",
      "Epoch 387/500\n",
      " - 0s - loss: 0.1665 - acc: 0.9294\n",
      "Epoch 388/500\n",
      " - 0s - loss: 0.1667 - acc: 0.9297\n",
      "Epoch 389/500\n",
      " - 0s - loss: 0.1655 - acc: 0.9288\n",
      "Epoch 390/500\n",
      " - 0s - loss: 0.1660 - acc: 0.9297\n",
      "Epoch 391/500\n",
      " - 0s - loss: 0.1662 - acc: 0.9318\n",
      "Epoch 392/500\n",
      " - 0s - loss: 0.1660 - acc: 0.9303\n",
      "Epoch 393/500\n",
      " - 0s - loss: 0.1653 - acc: 0.9282\n",
      "Epoch 394/500\n",
      " - 0s - loss: 0.1651 - acc: 0.9308\n",
      "Epoch 395/500\n",
      " - 0s - loss: 0.1654 - acc: 0.9303\n",
      "Epoch 396/500\n",
      " - 0s - loss: 0.1668 - acc: 0.9271\n",
      "Epoch 397/500\n",
      " - 0s - loss: 0.1654 - acc: 0.9286\n",
      "Epoch 398/500\n",
      " - 0s - loss: 0.1659 - acc: 0.9294\n",
      "Epoch 399/500\n",
      " - 0s - loss: 0.1658 - acc: 0.9299\n",
      "Epoch 400/500\n",
      " - 0s - loss: 0.1648 - acc: 0.9306\n",
      "Epoch 401/500\n",
      " - 0s - loss: 0.1657 - acc: 0.9299\n",
      "Epoch 402/500\n",
      " - 0s - loss: 0.1643 - acc: 0.9294\n",
      "Epoch 403/500\n",
      " - 0s - loss: 0.1657 - acc: 0.9288\n",
      "Epoch 404/500\n",
      " - 0s - loss: 0.1650 - acc: 0.9314\n",
      "Epoch 405/500\n",
      " - 0s - loss: 0.1647 - acc: 0.9300\n",
      "Epoch 406/500\n",
      " - 0s - loss: 0.1633 - acc: 0.9303\n",
      "Epoch 407/500\n",
      " - 0s - loss: 0.1636 - acc: 0.9318\n",
      "Epoch 408/500\n",
      " - 0s - loss: 0.1653 - acc: 0.9291\n",
      "Epoch 409/500\n",
      " - 0s - loss: 0.1639 - acc: 0.9296\n",
      "Epoch 410/500\n",
      " - 0s - loss: 0.1644 - acc: 0.9308\n",
      "Epoch 411/500\n",
      " - 0s - loss: 0.1638 - acc: 0.9279\n",
      "Epoch 412/500\n",
      " - 0s - loss: 0.1644 - acc: 0.9317\n",
      "Epoch 413/500\n",
      " - 0s - loss: 0.1641 - acc: 0.9309\n",
      "Epoch 414/500\n",
      " - 0s - loss: 0.1643 - acc: 0.9296\n",
      "Epoch 415/500\n",
      " - 0s - loss: 0.1638 - acc: 0.9296\n",
      "Epoch 416/500\n",
      " - 0s - loss: 0.1645 - acc: 0.9299\n",
      "Epoch 417/500\n",
      " - 0s - loss: 0.1637 - acc: 0.9318\n",
      "Epoch 418/500\n",
      " - 0s - loss: 0.1642 - acc: 0.9302\n",
      "Epoch 419/500\n",
      " - 0s - loss: 0.1634 - acc: 0.9309\n",
      "Epoch 420/500\n",
      " - 0s - loss: 0.1630 - acc: 0.9312\n",
      "Epoch 421/500\n",
      " - 0s - loss: 0.1636 - acc: 0.9306\n",
      "Epoch 422/500\n",
      " - 0s - loss: 0.1638 - acc: 0.9312\n",
      "Epoch 423/500\n",
      " - 0s - loss: 0.1626 - acc: 0.9328\n",
      "Epoch 424/500\n",
      " - 0s - loss: 0.1628 - acc: 0.9302\n",
      "Epoch 425/500\n",
      " - 0s - loss: 0.1627 - acc: 0.9294\n",
      "Epoch 426/500\n",
      " - 0s - loss: 0.1640 - acc: 0.9300\n",
      "Epoch 427/500\n",
      " - 0s - loss: 0.1629 - acc: 0.9299\n",
      "Epoch 428/500\n",
      " - 0s - loss: 0.1627 - acc: 0.9308\n",
      "Epoch 429/500\n",
      " - 0s - loss: 0.1629 - acc: 0.9315\n",
      "Epoch 430/500\n",
      " - 0s - loss: 0.1627 - acc: 0.9302\n",
      "Epoch 431/500\n",
      " - 0s - loss: 0.1618 - acc: 0.9329\n",
      "Epoch 432/500\n",
      " - 0s - loss: 0.1625 - acc: 0.9335\n",
      "Epoch 433/500\n",
      " - 0s - loss: 0.1622 - acc: 0.9289\n",
      "Epoch 434/500\n",
      " - 0s - loss: 0.1629 - acc: 0.9306\n",
      "Epoch 435/500\n",
      " - 0s - loss: 0.1618 - acc: 0.9303\n",
      "Epoch 436/500\n",
      " - 0s - loss: 0.1623 - acc: 0.9296\n",
      "Epoch 437/500\n",
      " - 0s - loss: 0.1621 - acc: 0.9299\n",
      "Epoch 438/500\n",
      " - 0s - loss: 0.1623 - acc: 0.9306\n",
      "Epoch 439/500\n",
      " - 0s - loss: 0.1611 - acc: 0.9312\n",
      "Epoch 440/500\n",
      " - 0s - loss: 0.1622 - acc: 0.9305\n",
      "Epoch 441/500\n",
      " - 0s - loss: 0.1619 - acc: 0.9315\n",
      "Epoch 442/500\n",
      " - 0s - loss: 0.1613 - acc: 0.9309\n",
      "Epoch 443/500\n",
      " - 0s - loss: 0.1624 - acc: 0.9289\n",
      "Epoch 444/500\n",
      " - 0s - loss: 0.1614 - acc: 0.9303\n",
      "Epoch 445/500\n",
      " - 0s - loss: 0.1612 - acc: 0.9299\n",
      "Epoch 446/500\n",
      " - 0s - loss: 0.1611 - acc: 0.9332\n",
      "Epoch 447/500\n",
      " - 0s - loss: 0.1612 - acc: 0.9303\n",
      "Epoch 448/500\n",
      " - 0s - loss: 0.1606 - acc: 0.9321\n",
      "Epoch 449/500\n",
      " - 0s - loss: 0.1619 - acc: 0.9305\n",
      "Epoch 450/500\n",
      " - 0s - loss: 0.1611 - acc: 0.9302\n",
      "Epoch 451/500\n",
      " - 0s - loss: 0.1608 - acc: 0.9324\n",
      "Epoch 452/500\n",
      " - 0s - loss: 0.1616 - acc: 0.9296\n",
      "Epoch 453/500\n",
      " - 0s - loss: 0.1607 - acc: 0.9318\n",
      "Epoch 454/500\n",
      " - 0s - loss: 0.1611 - acc: 0.9305\n",
      "Epoch 455/500\n",
      " - 0s - loss: 0.1602 - acc: 0.9317\n",
      "Epoch 456/500\n",
      " - 0s - loss: 0.1599 - acc: 0.9323\n",
      "Epoch 457/500\n",
      " - 0s - loss: 0.1600 - acc: 0.9289\n",
      "Epoch 458/500\n",
      " - 0s - loss: 0.1606 - acc: 0.9311\n",
      "Epoch 459/500\n",
      " - 0s - loss: 0.1596 - acc: 0.9296\n",
      "Epoch 460/500\n",
      " - 0s - loss: 0.1602 - acc: 0.9305\n",
      "Epoch 461/500\n",
      " - 0s - loss: 0.1595 - acc: 0.9320\n",
      "Epoch 462/500\n",
      " - 0s - loss: 0.1599 - acc: 0.9312\n",
      "Epoch 463/500\n",
      " - 0s - loss: 0.1598 - acc: 0.9311\n",
      "Epoch 464/500\n",
      " - 0s - loss: 0.1592 - acc: 0.9300\n",
      "Epoch 465/500\n",
      " - 0s - loss: 0.1600 - acc: 0.9314\n",
      "Epoch 466/500\n",
      " - 0s - loss: 0.1600 - acc: 0.9305\n",
      "Epoch 467/500\n",
      " - 0s - loss: 0.1590 - acc: 0.9306\n",
      "Epoch 468/500\n",
      " - 0s - loss: 0.1603 - acc: 0.9300\n",
      "Epoch 469/500\n",
      " - 0s - loss: 0.1610 - acc: 0.9306\n",
      "Epoch 470/500\n",
      " - 0s - loss: 0.1595 - acc: 0.9311\n",
      "Epoch 471/500\n",
      " - 0s - loss: 0.1588 - acc: 0.9317\n",
      "Epoch 472/500\n",
      " - 0s - loss: 0.1593 - acc: 0.9326\n",
      "Epoch 473/500\n",
      " - 0s - loss: 0.1580 - acc: 0.9314\n",
      "Epoch 474/500\n",
      " - 0s - loss: 0.1598 - acc: 0.9308\n",
      "Epoch 475/500\n",
      " - 0s - loss: 0.1594 - acc: 0.9326\n",
      "Epoch 476/500\n",
      " - 0s - loss: 0.1588 - acc: 0.9314\n",
      "Epoch 477/500\n",
      " - 0s - loss: 0.1587 - acc: 0.9309\n",
      "Epoch 478/500\n",
      " - 0s - loss: 0.1593 - acc: 0.9317\n",
      "Epoch 479/500\n",
      " - 0s - loss: 0.1588 - acc: 0.9312\n",
      "Epoch 480/500\n",
      " - 0s - loss: 0.1582 - acc: 0.9312\n",
      "Epoch 481/500\n",
      " - 0s - loss: 0.1583 - acc: 0.9321\n",
      "Epoch 482/500\n",
      " - 0s - loss: 0.1586 - acc: 0.9323\n",
      "Epoch 483/500\n",
      " - 0s - loss: 0.1599 - acc: 0.9306\n",
      "Epoch 484/500\n",
      " - 0s - loss: 0.1583 - acc: 0.9315\n",
      "Epoch 485/500\n",
      " - 0s - loss: 0.1585 - acc: 0.9309\n",
      "Epoch 486/500\n",
      " - 0s - loss: 0.1590 - acc: 0.9300\n",
      "Epoch 487/500\n",
      " - 0s - loss: 0.1590 - acc: 0.9331\n",
      "Epoch 488/500\n",
      " - 0s - loss: 0.1585 - acc: 0.9317\n",
      "Epoch 489/500\n",
      " - 0s - loss: 0.1581 - acc: 0.9324\n",
      "Epoch 490/500\n",
      " - 0s - loss: 0.1578 - acc: 0.9317\n",
      "Epoch 491/500\n",
      " - 0s - loss: 0.1578 - acc: 0.9317\n",
      "Epoch 492/500\n",
      " - 0s - loss: 0.1581 - acc: 0.9320\n",
      "Epoch 493/500\n",
      " - 0s - loss: 0.1576 - acc: 0.9311\n",
      "Epoch 494/500\n",
      " - 0s - loss: 0.1580 - acc: 0.9332\n",
      "Epoch 495/500\n",
      " - 0s - loss: 0.1579 - acc: 0.9331\n",
      "Epoch 496/500\n",
      " - 0s - loss: 0.1579 - acc: 0.9306\n",
      "Epoch 497/500\n",
      " - 0s - loss: 0.1577 - acc: 0.9334\n",
      "Epoch 498/500\n",
      " - 0s - loss: 0.1577 - acc: 0.9288\n",
      "Epoch 499/500\n",
      " - 0s - loss: 0.1578 - acc: 0.9314\n",
      "Epoch 500/500\n",
      " - 0s - loss: 0.1576 - acc: 0.9335\n"
     ]
    },
    {
     "data": {
      "text/plain": [
       "<tensorflow.python.keras.callbacks.History at 0x239a5fe6c18>"
      ]
     },
     "execution_count": 100,
     "metadata": {},
     "output_type": "execute_result"
    }
   ],
   "source": [
    "# Fit the model to the training data\n",
    "deep_model.fit(\n",
    "    X_train_scaled,\n",
    "    y_train_categorical,\n",
    "    epochs=500,\n",
    "    shuffle=True,\n",
    "    verbose=2\n",
    ")"
   ]
  },
  {
   "cell_type": "code",
   "execution_count": 101,
   "metadata": {},
   "outputs": [
    {
     "name": "stdout",
     "output_type": "stream",
     "text": [
      " - 0s - loss: 0.3365 - acc: 0.8888\n",
      "Normal Neural Network - Loss: 0.3364828083892536, Accuracy: 0.8888380527496338\n"
     ]
    }
   ],
   "source": [
    "deep_model_loss, deep_model_accuracy = deep_model.evaluate(\n",
    "    X_test_scaled, y_test_categorical, verbose=2)\n",
    "print(\n",
    "    f\"Normal Neural Network - Loss: {deep_model_loss}, Accuracy: {deep_model_accuracy}\")"
   ]
  },
  {
   "cell_type": "code",
   "execution_count": null,
   "metadata": {},
   "outputs": [],
   "source": []
  },
  {
   "cell_type": "code",
   "execution_count": null,
   "metadata": {},
   "outputs": [],
   "source": []
  }
 ],
 "metadata": {
  "hide_input": false,
  "kernel_info": {
   "name": "dev"
  },
  "kernelspec": {
   "display_name": "Python 3",
   "language": "python",
   "name": "python3"
  },
  "nteract": {
   "version": "0.12.3"
  },
  "toc": {
   "base_numbering": 1,
   "nav_menu": {},
   "number_sections": true,
   "sideBar": true,
   "skip_h1_title": false,
   "title_cell": "Table of Contents",
   "title_sidebar": "Contents",
   "toc_cell": false,
   "toc_position": {},
   "toc_section_display": true,
   "toc_window_display": false
  },
  "varInspector": {
   "cols": {
    "lenName": 16,
    "lenType": 16,
    "lenVar": 40
   },
   "kernels_config": {
    "python": {
     "delete_cmd_postfix": "",
     "delete_cmd_prefix": "del ",
     "library": "var_list.py",
     "varRefreshCmd": "print(var_dic_list())"
    },
    "r": {
     "delete_cmd_postfix": ") ",
     "delete_cmd_prefix": "rm(",
     "library": "var_list.r",
     "varRefreshCmd": "cat(var_dic_list()) "
    }
   },
   "types_to_exclude": [
    "module",
    "function",
    "builtin_function_or_method",
    "instance",
    "_Feature"
   ],
   "window_display": false
  }
 },
 "nbformat": 4,
 "nbformat_minor": 2
}
